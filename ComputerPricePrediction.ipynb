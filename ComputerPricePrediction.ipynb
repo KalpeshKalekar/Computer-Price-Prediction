{
 "cells": [
  {
   "cell_type": "code",
   "execution_count": 1,
   "id": "ae4dad0b",
   "metadata": {},
   "outputs": [],
   "source": [
    "#filter warnings \n",
    "from warnings import filterwarnings\n",
    "filterwarnings(\"ignore\")"
   ]
  },
  {
   "cell_type": "markdown",
   "id": "51ad0864",
   "metadata": {},
   "source": [
    "# Read Data Set\n"
   ]
  },
  {
   "cell_type": "code",
   "execution_count": 2,
   "id": "c9345c01",
   "metadata": {},
   "outputs": [],
   "source": [
    "import pandas as pd\n",
    "ComputerPrice = pd.read_csv(\"F:/Course/Pandas/Csv/ComputerPricesData.csv\")"
   ]
  },
  {
   "cell_type": "code",
   "execution_count": 3,
   "id": "f959ac48",
   "metadata": {},
   "outputs": [
    {
     "data": {
      "text/html": [
       "<div>\n",
       "<style scoped>\n",
       "    .dataframe tbody tr th:only-of-type {\n",
       "        vertical-align: middle;\n",
       "    }\n",
       "\n",
       "    .dataframe tbody tr th {\n",
       "        vertical-align: top;\n",
       "    }\n",
       "\n",
       "    .dataframe thead th {\n",
       "        text-align: right;\n",
       "    }\n",
       "</style>\n",
       "<table border=\"1\" class=\"dataframe\">\n",
       "  <thead>\n",
       "    <tr style=\"text-align: right;\">\n",
       "      <th></th>\n",
       "      <th>price</th>\n",
       "      <th>speed</th>\n",
       "      <th>hd</th>\n",
       "      <th>ram</th>\n",
       "      <th>screen</th>\n",
       "      <th>cd</th>\n",
       "      <th>multi</th>\n",
       "      <th>premium</th>\n",
       "      <th>ads</th>\n",
       "      <th>trend</th>\n",
       "    </tr>\n",
       "  </thead>\n",
       "  <tbody>\n",
       "    <tr>\n",
       "      <th>0</th>\n",
       "      <td>1499</td>\n",
       "      <td>25</td>\n",
       "      <td>80</td>\n",
       "      <td>4</td>\n",
       "      <td>14</td>\n",
       "      <td>no</td>\n",
       "      <td>no</td>\n",
       "      <td>yes</td>\n",
       "      <td>94</td>\n",
       "      <td>1</td>\n",
       "    </tr>\n",
       "    <tr>\n",
       "      <th>1</th>\n",
       "      <td>1795</td>\n",
       "      <td>33</td>\n",
       "      <td>85</td>\n",
       "      <td>2</td>\n",
       "      <td>14</td>\n",
       "      <td>no</td>\n",
       "      <td>no</td>\n",
       "      <td>yes</td>\n",
       "      <td>94</td>\n",
       "      <td>1</td>\n",
       "    </tr>\n",
       "    <tr>\n",
       "      <th>2</th>\n",
       "      <td>1595</td>\n",
       "      <td>25</td>\n",
       "      <td>170</td>\n",
       "      <td>4</td>\n",
       "      <td>15</td>\n",
       "      <td>no</td>\n",
       "      <td>no</td>\n",
       "      <td>yes</td>\n",
       "      <td>94</td>\n",
       "      <td>1</td>\n",
       "    </tr>\n",
       "    <tr>\n",
       "      <th>3</th>\n",
       "      <td>1849</td>\n",
       "      <td>25</td>\n",
       "      <td>170</td>\n",
       "      <td>8</td>\n",
       "      <td>14</td>\n",
       "      <td>no</td>\n",
       "      <td>no</td>\n",
       "      <td>no</td>\n",
       "      <td>94</td>\n",
       "      <td>1</td>\n",
       "    </tr>\n",
       "    <tr>\n",
       "      <th>4</th>\n",
       "      <td>3295</td>\n",
       "      <td>33</td>\n",
       "      <td>340</td>\n",
       "      <td>16</td>\n",
       "      <td>14</td>\n",
       "      <td>no</td>\n",
       "      <td>no</td>\n",
       "      <td>yes</td>\n",
       "      <td>94</td>\n",
       "      <td>1</td>\n",
       "    </tr>\n",
       "    <tr>\n",
       "      <th>...</th>\n",
       "      <td>...</td>\n",
       "      <td>...</td>\n",
       "      <td>...</td>\n",
       "      <td>...</td>\n",
       "      <td>...</td>\n",
       "      <td>...</td>\n",
       "      <td>...</td>\n",
       "      <td>...</td>\n",
       "      <td>...</td>\n",
       "      <td>...</td>\n",
       "    </tr>\n",
       "    <tr>\n",
       "      <th>6254</th>\n",
       "      <td>1690</td>\n",
       "      <td>100</td>\n",
       "      <td>528</td>\n",
       "      <td>8</td>\n",
       "      <td>15</td>\n",
       "      <td>no</td>\n",
       "      <td>no</td>\n",
       "      <td>yes</td>\n",
       "      <td>39</td>\n",
       "      <td>35</td>\n",
       "    </tr>\n",
       "    <tr>\n",
       "      <th>6255</th>\n",
       "      <td>2223</td>\n",
       "      <td>66</td>\n",
       "      <td>850</td>\n",
       "      <td>16</td>\n",
       "      <td>15</td>\n",
       "      <td>yes</td>\n",
       "      <td>yes</td>\n",
       "      <td>yes</td>\n",
       "      <td>39</td>\n",
       "      <td>35</td>\n",
       "    </tr>\n",
       "    <tr>\n",
       "      <th>6256</th>\n",
       "      <td>2654</td>\n",
       "      <td>100</td>\n",
       "      <td>1200</td>\n",
       "      <td>24</td>\n",
       "      <td>15</td>\n",
       "      <td>yes</td>\n",
       "      <td>no</td>\n",
       "      <td>yes</td>\n",
       "      <td>39</td>\n",
       "      <td>35</td>\n",
       "    </tr>\n",
       "    <tr>\n",
       "      <th>6257</th>\n",
       "      <td>2195</td>\n",
       "      <td>100</td>\n",
       "      <td>850</td>\n",
       "      <td>16</td>\n",
       "      <td>15</td>\n",
       "      <td>yes</td>\n",
       "      <td>no</td>\n",
       "      <td>yes</td>\n",
       "      <td>39</td>\n",
       "      <td>35</td>\n",
       "    </tr>\n",
       "    <tr>\n",
       "      <th>6258</th>\n",
       "      <td>2490</td>\n",
       "      <td>100</td>\n",
       "      <td>850</td>\n",
       "      <td>16</td>\n",
       "      <td>17</td>\n",
       "      <td>yes</td>\n",
       "      <td>no</td>\n",
       "      <td>yes</td>\n",
       "      <td>39</td>\n",
       "      <td>35</td>\n",
       "    </tr>\n",
       "  </tbody>\n",
       "</table>\n",
       "<p>6259 rows × 10 columns</p>\n",
       "</div>"
      ],
      "text/plain": [
       "      price  speed    hd  ram  screen   cd multi premium  ads  trend\n",
       "0      1499     25    80    4      14   no    no     yes   94      1\n",
       "1      1795     33    85    2      14   no    no     yes   94      1\n",
       "2      1595     25   170    4      15   no    no     yes   94      1\n",
       "3      1849     25   170    8      14   no    no      no   94      1\n",
       "4      3295     33   340   16      14   no    no     yes   94      1\n",
       "...     ...    ...   ...  ...     ...  ...   ...     ...  ...    ...\n",
       "6254   1690    100   528    8      15   no    no     yes   39     35\n",
       "6255   2223     66   850   16      15  yes   yes     yes   39     35\n",
       "6256   2654    100  1200   24      15  yes    no     yes   39     35\n",
       "6257   2195    100   850   16      15  yes    no     yes   39     35\n",
       "6258   2490    100   850   16      17  yes    no     yes   39     35\n",
       "\n",
       "[6259 rows x 10 columns]"
      ]
     },
     "execution_count": 3,
     "metadata": {},
     "output_type": "execute_result"
    }
   ],
   "source": [
    "ComputerPrice"
   ]
  },
  {
   "cell_type": "markdown",
   "id": "492fa164",
   "metadata": {},
   "source": [
    "# Data Description"
   ]
  },
  {
   "cell_type": "raw",
   "id": "7bf2679f",
   "metadata": {},
   "source": [
    "The business meaning of each column in the data is as below\n",
    "\n",
    "price: The Price of the computer\n",
    "speed: The speed\n",
    "hd: How much hard drive is present\n",
    "ram: How much ram is present in the computer\n",
    "screen: The screen size\n",
    "cd: Whether CD player is present or not\n",
    "multi: Are there multiple ports or not\n",
    "premium: If the computer premium quality\n",
    "ads: The ads value of the computer\n",
    "trend: The trend value of the computer"
   ]
  },
  {
   "cell_type": "code",
   "execution_count": 4,
   "id": "7d81d88f",
   "metadata": {},
   "outputs": [
    {
     "name": "stdout",
     "output_type": "stream",
     "text": [
      "Shape of Data before removing duplicates data :  (6259, 10)\n",
      "Shape of Data after removing duplicates data :  (6183, 10)\n"
     ]
    }
   ],
   "source": [
    "#Removing Duplicates Values\n",
    "print(\"Shape of Data before removing duplicates data : \",ComputerPrice.shape)\n",
    "ComputerPrice = ComputerPrice.drop_duplicates()\n",
    "print(\"Shape of Data after removing duplicates data : \",ComputerPrice.shape)"
   ]
  },
  {
   "cell_type": "markdown",
   "id": "94620a33",
   "metadata": {},
   "source": [
    "# Problem Statement"
   ]
  },
  {
   "cell_type": "raw",
   "id": "8f54a8ff",
   "metadata": {},
   "source": [
    "Create a ML model which can predict the apt price of a computer\n",
    "Target Variable: price\n",
    "Predictors: RAM, HDD, CD, ports etc"
   ]
  },
  {
   "cell_type": "markdown",
   "id": "11b34ec5",
   "metadata": {},
   "source": [
    "# Determining the type of Machine Learning"
   ]
  },
  {
   "cell_type": "raw",
   "id": "61111945",
   "metadata": {},
   "source": [
    "Based on the problem statement you can understand that we need to create a supervised ML Regression model, as the target variable is Continuous."
   ]
  },
  {
   "cell_type": "markdown",
   "id": "335a243e",
   "metadata": {},
   "source": [
    "# Looking at the distribution of Target variable"
   ]
  },
  {
   "cell_type": "raw",
   "id": "ba3f3e29",
   "metadata": {},
   "source": [
    "If target variable's distribution is too skewed then the predictive modeling will not be possible.\n",
    "Bell curve is desirable but slightly positive skew or negative skew is also fine\n",
    "When performing Regression, make sure the histogram looks like a bell curve or slight skewed version of it. Otherwise it impacts the Machine Learning algorithms ability to learn all the scenarios."
   ]
  },
  {
   "cell_type": "code",
   "execution_count": 5,
   "id": "9133b689",
   "metadata": {},
   "outputs": [
    {
     "data": {
      "text/plain": [
       "<AxesSubplot:>"
      ]
     },
     "execution_count": 5,
     "metadata": {},
     "output_type": "execute_result"
    },
    {
     "data": {
      "image/png": "[encoded data removed]",
      "text/plain": [
       "<Figure size 432x288 with 1 Axes>"
      ]
     },
     "metadata": {
      "needs_background": "light"
     },
     "output_type": "display_data"
    }
   ],
   "source": [
    "# Creating Bar chart as the Target variable is Continuous\n",
    "ComputerPrice['price'].hist()"
   ]
  },
  {
   "cell_type": "markdown",
   "id": "aa339ffa",
   "metadata": {},
   "source": [
    "# Basic Data Exploration"
   ]
  },
  {
   "cell_type": "raw",
   "id": "77d07bb4",
   "metadata": {},
   "source": [
    "This step is performed to guage the overall data. The volume of data, the types of columns present in the data. Initial assessment of the data should be done to identify which columns are Quantitative, Categorical or Qualitative.\n",
    "\n",
    "This step helps to start the column rejection process. You must look at each column carefully and ask, does this column affect the values of the Target variable? For example in this case study, you will ask, does this column affect the price of the computer? If the answer is a clear \"No\", then remove the column immediately from the data, otherwise keep the column for further analysis.\n",
    "\n",
    "There are four commands which are used for Basic data exploration in Python\n",
    "\n",
    "head() : This helps to see a few sample rows of the data\n",
    "info() : This provides the summarized information of the data\n",
    "describe() : This provides the descriptive statistical details of the data\n",
    "nunique(): This helps us to identify if a column is categorical or continuous"
   ]
  },
  {
   "cell_type": "code",
   "execution_count": 6,
   "id": "7e26fed2",
   "metadata": {},
   "outputs": [
    {
     "data": {
      "text/html": [
       "<div>\n",
       "<style scoped>\n",
       "    .dataframe tbody tr th:only-of-type {\n",
       "        vertical-align: middle;\n",
       "    }\n",
       "\n",
       "    .dataframe tbody tr th {\n",
       "        vertical-align: top;\n",
       "    }\n",
       "\n",
       "    .dataframe thead th {\n",
       "        text-align: right;\n",
       "    }\n",
       "</style>\n",
       "<table border=\"1\" class=\"dataframe\">\n",
       "  <thead>\n",
       "    <tr style=\"text-align: right;\">\n",
       "      <th></th>\n",
       "      <th>price</th>\n",
       "      <th>speed</th>\n",
       "      <th>hd</th>\n",
       "      <th>ram</th>\n",
       "      <th>screen</th>\n",
       "      <th>cd</th>\n",
       "      <th>multi</th>\n",
       "      <th>premium</th>\n",
       "      <th>ads</th>\n",
       "      <th>trend</th>\n",
       "    </tr>\n",
       "  </thead>\n",
       "  <tbody>\n",
       "    <tr>\n",
       "      <th>0</th>\n",
       "      <td>1499</td>\n",
       "      <td>25</td>\n",
       "      <td>80</td>\n",
       "      <td>4</td>\n",
       "      <td>14</td>\n",
       "      <td>no</td>\n",
       "      <td>no</td>\n",
       "      <td>yes</td>\n",
       "      <td>94</td>\n",
       "      <td>1</td>\n",
       "    </tr>\n",
       "    <tr>\n",
       "      <th>1</th>\n",
       "      <td>1795</td>\n",
       "      <td>33</td>\n",
       "      <td>85</td>\n",
       "      <td>2</td>\n",
       "      <td>14</td>\n",
       "      <td>no</td>\n",
       "      <td>no</td>\n",
       "      <td>yes</td>\n",
       "      <td>94</td>\n",
       "      <td>1</td>\n",
       "    </tr>\n",
       "    <tr>\n",
       "      <th>2</th>\n",
       "      <td>1595</td>\n",
       "      <td>25</td>\n",
       "      <td>170</td>\n",
       "      <td>4</td>\n",
       "      <td>15</td>\n",
       "      <td>no</td>\n",
       "      <td>no</td>\n",
       "      <td>yes</td>\n",
       "      <td>94</td>\n",
       "      <td>1</td>\n",
       "    </tr>\n",
       "    <tr>\n",
       "      <th>3</th>\n",
       "      <td>1849</td>\n",
       "      <td>25</td>\n",
       "      <td>170</td>\n",
       "      <td>8</td>\n",
       "      <td>14</td>\n",
       "      <td>no</td>\n",
       "      <td>no</td>\n",
       "      <td>no</td>\n",
       "      <td>94</td>\n",
       "      <td>1</td>\n",
       "    </tr>\n",
       "    <tr>\n",
       "      <th>4</th>\n",
       "      <td>3295</td>\n",
       "      <td>33</td>\n",
       "      <td>340</td>\n",
       "      <td>16</td>\n",
       "      <td>14</td>\n",
       "      <td>no</td>\n",
       "      <td>no</td>\n",
       "      <td>yes</td>\n",
       "      <td>94</td>\n",
       "      <td>1</td>\n",
       "    </tr>\n",
       "  </tbody>\n",
       "</table>\n",
       "</div>"
      ],
      "text/plain": [
       "   price  speed   hd  ram  screen  cd multi premium  ads  trend\n",
       "0   1499     25   80    4      14  no    no     yes   94      1\n",
       "1   1795     33   85    2      14  no    no     yes   94      1\n",
       "2   1595     25  170    4      15  no    no     yes   94      1\n",
       "3   1849     25  170    8      14  no    no      no   94      1\n",
       "4   3295     33  340   16      14  no    no     yes   94      1"
      ]
     },
     "execution_count": 6,
     "metadata": {},
     "output_type": "execute_result"
    }
   ],
   "source": [
    "# Looking at sample rows in the data\n",
    "ComputerPrice.head()"
   ]
  },
  {
   "cell_type": "code",
   "execution_count": 7,
   "id": "aaad6ef1",
   "metadata": {},
   "outputs": [
    {
     "name": "stdout",
     "output_type": "stream",
     "text": [
      "<class 'pandas.core.frame.DataFrame'>\n",
      "Int64Index: 6183 entries, 0 to 6258\n",
      "Data columns (total 10 columns):\n",
      " #   Column   Non-Null Count  Dtype \n",
      "---  ------   --------------  ----- \n",
      " 0   price    6183 non-null   int64 \n",
      " 1   speed    6183 non-null   int64 \n",
      " 2   hd       6183 non-null   int64 \n",
      " 3   ram      6183 non-null   int64 \n",
      " 4   screen   6183 non-null   int64 \n",
      " 5   cd       6183 non-null   object\n",
      " 6   multi    6183 non-null   object\n",
      " 7   premium  6183 non-null   object\n",
      " 8   ads      6183 non-null   int64 \n",
      " 9   trend    6183 non-null   int64 \n",
      "dtypes: int64(7), object(3)\n",
      "memory usage: 531.4+ KB\n"
     ]
    }
   ],
   "source": [
    "# Observing the summarized information of data\n",
    "# Data types, Missing values based on number of non-null values Vs total rows etc.\n",
    "# Remove those variables from data which have too many missing values (Missing Values > 30%)\n",
    "# Remove Qualitative variables which cannot be used in Machine Learning\n",
    "ComputerPrice.info()"
   ]
  },
  {
   "cell_type": "code",
   "execution_count": 8,
   "id": "34894538",
   "metadata": {},
   "outputs": [
    {
     "data": {
      "text/html": [
       "<div>\n",
       "<style scoped>\n",
       "    .dataframe tbody tr th:only-of-type {\n",
       "        vertical-align: middle;\n",
       "    }\n",
       "\n",
       "    .dataframe tbody tr th {\n",
       "        vertical-align: top;\n",
       "    }\n",
       "\n",
       "    .dataframe thead th {\n",
       "        text-align: right;\n",
       "    }\n",
       "</style>\n",
       "<table border=\"1\" class=\"dataframe\">\n",
       "  <thead>\n",
       "    <tr style=\"text-align: right;\">\n",
       "      <th></th>\n",
       "      <th>price</th>\n",
       "      <th>speed</th>\n",
       "      <th>hd</th>\n",
       "      <th>ram</th>\n",
       "      <th>screen</th>\n",
       "      <th>cd</th>\n",
       "      <th>multi</th>\n",
       "      <th>premium</th>\n",
       "      <th>ads</th>\n",
       "      <th>trend</th>\n",
       "    </tr>\n",
       "  </thead>\n",
       "  <tbody>\n",
       "    <tr>\n",
       "      <th>count</th>\n",
       "      <td>6183.000000</td>\n",
       "      <td>6183.000000</td>\n",
       "      <td>6183.000000</td>\n",
       "      <td>6183.000000</td>\n",
       "      <td>6183.000000</td>\n",
       "      <td>6183</td>\n",
       "      <td>6183</td>\n",
       "      <td>6183</td>\n",
       "      <td>6183.000000</td>\n",
       "      <td>6183.000000</td>\n",
       "    </tr>\n",
       "    <tr>\n",
       "      <th>unique</th>\n",
       "      <td>NaN</td>\n",
       "      <td>NaN</td>\n",
       "      <td>NaN</td>\n",
       "      <td>NaN</td>\n",
       "      <td>NaN</td>\n",
       "      <td>2</td>\n",
       "      <td>2</td>\n",
       "      <td>2</td>\n",
       "      <td>NaN</td>\n",
       "      <td>NaN</td>\n",
       "    </tr>\n",
       "    <tr>\n",
       "      <th>top</th>\n",
       "      <td>NaN</td>\n",
       "      <td>NaN</td>\n",
       "      <td>NaN</td>\n",
       "      <td>NaN</td>\n",
       "      <td>NaN</td>\n",
       "      <td>no</td>\n",
       "      <td>no</td>\n",
       "      <td>yes</td>\n",
       "      <td>NaN</td>\n",
       "      <td>NaN</td>\n",
       "    </tr>\n",
       "    <tr>\n",
       "      <th>freq</th>\n",
       "      <td>NaN</td>\n",
       "      <td>NaN</td>\n",
       "      <td>NaN</td>\n",
       "      <td>NaN</td>\n",
       "      <td>NaN</td>\n",
       "      <td>3314</td>\n",
       "      <td>5325</td>\n",
       "      <td>5573</td>\n",
       "      <td>NaN</td>\n",
       "      <td>NaN</td>\n",
       "    </tr>\n",
       "    <tr>\n",
       "      <th>mean</th>\n",
       "      <td>2221.837943</td>\n",
       "      <td>52.129549</td>\n",
       "      <td>417.760796</td>\n",
       "      <td>8.305353</td>\n",
       "      <td>14.614265</td>\n",
       "      <td>NaN</td>\n",
       "      <td>NaN</td>\n",
       "      <td>NaN</td>\n",
       "      <td>220.906033</td>\n",
       "      <td>15.944364</td>\n",
       "    </tr>\n",
       "    <tr>\n",
       "      <th>std</th>\n",
       "      <td>582.042129</td>\n",
       "      <td>21.190655</td>\n",
       "      <td>259.458342</td>\n",
       "      <td>5.649178</td>\n",
       "      <td>0.907304</td>\n",
       "      <td>NaN</td>\n",
       "      <td>NaN</td>\n",
       "      <td>NaN</td>\n",
       "      <td>74.958628</td>\n",
       "      <td>7.903073</td>\n",
       "    </tr>\n",
       "    <tr>\n",
       "      <th>min</th>\n",
       "      <td>949.000000</td>\n",
       "      <td>25.000000</td>\n",
       "      <td>80.000000</td>\n",
       "      <td>2.000000</td>\n",
       "      <td>14.000000</td>\n",
       "      <td>NaN</td>\n",
       "      <td>NaN</td>\n",
       "      <td>NaN</td>\n",
       "      <td>39.000000</td>\n",
       "      <td>1.000000</td>\n",
       "    </tr>\n",
       "    <tr>\n",
       "      <th>25%</th>\n",
       "      <td>1794.000000</td>\n",
       "      <td>33.000000</td>\n",
       "      <td>214.000000</td>\n",
       "      <td>4.000000</td>\n",
       "      <td>14.000000</td>\n",
       "      <td>NaN</td>\n",
       "      <td>NaN</td>\n",
       "      <td>NaN</td>\n",
       "      <td>162.000000</td>\n",
       "      <td>10.000000</td>\n",
       "    </tr>\n",
       "    <tr>\n",
       "      <th>50%</th>\n",
       "      <td>2145.000000</td>\n",
       "      <td>50.000000</td>\n",
       "      <td>340.000000</td>\n",
       "      <td>8.000000</td>\n",
       "      <td>14.000000</td>\n",
       "      <td>NaN</td>\n",
       "      <td>NaN</td>\n",
       "      <td>NaN</td>\n",
       "      <td>246.000000</td>\n",
       "      <td>16.000000</td>\n",
       "    </tr>\n",
       "    <tr>\n",
       "      <th>75%</th>\n",
       "      <td>2595.000000</td>\n",
       "      <td>66.000000</td>\n",
       "      <td>528.000000</td>\n",
       "      <td>8.000000</td>\n",
       "      <td>15.000000</td>\n",
       "      <td>NaN</td>\n",
       "      <td>NaN</td>\n",
       "      <td>NaN</td>\n",
       "      <td>275.000000</td>\n",
       "      <td>22.000000</td>\n",
       "    </tr>\n",
       "    <tr>\n",
       "      <th>max</th>\n",
       "      <td>5399.000000</td>\n",
       "      <td>100.000000</td>\n",
       "      <td>2100.000000</td>\n",
       "      <td>32.000000</td>\n",
       "      <td>17.000000</td>\n",
       "      <td>NaN</td>\n",
       "      <td>NaN</td>\n",
       "      <td>NaN</td>\n",
       "      <td>339.000000</td>\n",
       "      <td>35.000000</td>\n",
       "    </tr>\n",
       "  </tbody>\n",
       "</table>\n",
       "</div>"
      ],
      "text/plain": [
       "              price        speed           hd          ram       screen    cd  \\\n",
       "count   6183.000000  6183.000000  6183.000000  6183.000000  6183.000000  6183   \n",
       "unique          NaN          NaN          NaN          NaN          NaN     2   \n",
       "top             NaN          NaN          NaN          NaN          NaN    no   \n",
       "freq            NaN          NaN          NaN          NaN          NaN  3314   \n",
       "mean    2221.837943    52.129549   417.760796     8.305353    14.614265   NaN   \n",
       "std      582.042129    21.190655   259.458342     5.649178     0.907304   NaN   \n",
       "min      949.000000    25.000000    80.000000     2.000000    14.000000   NaN   \n",
       "25%     1794.000000    33.000000   214.000000     4.000000    14.000000   NaN   \n",
       "50%     2145.000000    50.000000   340.000000     8.000000    14.000000   NaN   \n",
       "75%     2595.000000    66.000000   528.000000     8.000000    15.000000   NaN   \n",
       "max     5399.000000   100.000000  2100.000000    32.000000    17.000000   NaN   \n",
       "\n",
       "       multi premium          ads        trend  \n",
       "count   6183    6183  6183.000000  6183.000000  \n",
       "unique     2       2          NaN          NaN  \n",
       "top       no     yes          NaN          NaN  \n",
       "freq    5325    5573          NaN          NaN  \n",
       "mean     NaN     NaN   220.906033    15.944364  \n",
       "std      NaN     NaN    74.958628     7.903073  \n",
       "min      NaN     NaN    39.000000     1.000000  \n",
       "25%      NaN     NaN   162.000000    10.000000  \n",
       "50%      NaN     NaN   246.000000    16.000000  \n",
       "75%      NaN     NaN   275.000000    22.000000  \n",
       "max      NaN     NaN   339.000000    35.000000  "
      ]
     },
     "execution_count": 8,
     "metadata": {},
     "output_type": "execute_result"
    }
   ],
   "source": [
    "# Looking at the descriptive statistics of the data\n",
    "ComputerPrice.describe(include='all')"
   ]
  },
  {
   "cell_type": "code",
   "execution_count": 9,
   "id": "416838f9",
   "metadata": {},
   "outputs": [
    {
     "data": {
      "text/plain": [
       "price      808\n",
       "speed        6\n",
       "hd          59\n",
       "ram          6\n",
       "screen       3\n",
       "cd           2\n",
       "multi        2\n",
       "premium      2\n",
       "ads         34\n",
       "trend       35\n",
       "dtype: int64"
      ]
     },
     "execution_count": 9,
     "metadata": {},
     "output_type": "execute_result"
    }
   ],
   "source": [
    "# Finging unique values for each column\n",
    "# TO understand which column is categorical and which one is Continuous\n",
    "# Typically if the numer of unique values are < 20 then the variable is likely to be a category otherwise continuous\n",
    "ComputerPrice.nunique()"
   ]
  },
  {
   "cell_type": "markdown",
   "id": "5f92c182",
   "metadata": {},
   "source": [
    "# Basic Data Exploration Results"
   ]
  },
  {
   "cell_type": "raw",
   "id": "ff3c3551",
   "metadata": {},
   "source": [
    "Based on the basic exploration above, you can now create a simple report of the data, noting down your observations regaring each column. Hence, creating a initial roadmap for further analysis.\n",
    "\n",
    "The selected columns in this step are not final, further study will be done and then a final list will be created\n",
    "\n",
    "price: Continuous. Selected.This is the Target Variable!\n",
    "speed: Continuous. Selected\n",
    "hd: Continuous. Selected\n",
    "ram: Categorical. Selected\n",
    "screen: Categorical. Selected\n",
    "cd: Categorical. Selected\n",
    "multi: Categorical. Selected\n",
    "premium: Categorical. Selected\n",
    "ads: Continuous. Selected\n",
    "trend: Continuous. Selected"
   ]
  },
  {
   "cell_type": "markdown",
   "id": "dc1a18ca",
   "metadata": {},
   "source": [
    "# Visual Exploratory Data Analysis"
   ]
  },
  {
   "cell_type": "raw",
   "id": "7d394797",
   "metadata": {},
   "source": [
    "Categorical variables: Bar plot\n",
    "Continuous variables: Histogram"
   ]
  },
  {
   "cell_type": "markdown",
   "id": "4fa1f2cb",
   "metadata": {},
   "source": [
    "# Visualize distribution of all the Categorical Predictor variables in the data using bar plots"
   ]
  },
  {
   "cell_type": "code",
   "execution_count": 10,
   "id": "6c9f3f62",
   "metadata": {},
   "outputs": [],
   "source": [
    "#seperating continous and categorical data\n",
    "cat = []\n",
    "con = []\n",
    "\n",
    "for i in ComputerPrice.columns:\n",
    "    if (ComputerPrice[i].dtypes == \"object\"):\n",
    "        cat.append(i)\n",
    "    else:\n",
    "        con.append(i)"
   ]
  },
  {
   "cell_type": "code",
   "execution_count": 11,
   "id": "16958fa3",
   "metadata": {},
   "outputs": [
    {
     "data": {
      "text/plain": [
       "['cd', 'multi', 'premium']"
      ]
     },
     "execution_count": 11,
     "metadata": {},
     "output_type": "execute_result"
    }
   ],
   "source": [
    "cat"
   ]
  },
  {
   "cell_type": "code",
   "execution_count": 12,
   "id": "d1f24232",
   "metadata": {},
   "outputs": [
    {
     "data": {
      "text/plain": [
       "['price', 'speed', 'hd', 'ram', 'screen', 'ads', 'trend']"
      ]
     },
     "execution_count": 12,
     "metadata": {},
     "output_type": "execute_result"
    }
   ],
   "source": [
    "con"
   ]
  },
  {
   "cell_type": "code",
   "execution_count": 13,
   "id": "d493705b",
   "metadata": {},
   "outputs": [],
   "source": [
    "import seaborn as sb\n",
    "from seaborn import countplot\n",
    "from seaborn import displot"
   ]
  },
  {
   "cell_type": "code",
   "execution_count": 14,
   "id": "50fcf56e",
   "metadata": {},
   "outputs": [
    {
     "data": {
      "image/png": "[encoded data removed]",
      "text/plain": [
       "<Figure size 576x1080 with 3 Axes>"
      ]
     },
     "metadata": {
      "needs_background": "light"
     },
     "output_type": "display_data"
    }
   ],
   "source": [
    "import matplotlib.pyplot as plt\n",
    "plt.figure(figsize=(8,15))\n",
    "x = 1\n",
    "for i in cat:\n",
    "    plt.subplot(3,1,x)\n",
    "    countplot(ComputerPrice[i])\n",
    "    x = x + 1"
   ]
  },
  {
   "cell_type": "markdown",
   "id": "9ca801ec",
   "metadata": {},
   "source": [
    "# Visualize distribution of all the Continuous Predictor variables in the data using histograms"
   ]
  },
  {
   "cell_type": "code",
   "execution_count": 15,
   "id": "3555b8fa",
   "metadata": {},
   "outputs": [
    {
     "data": {
      "text/plain": [
       "array([[<AxesSubplot:title={'center':'price'}>,\n",
       "        <AxesSubplot:title={'center':'speed'}>,\n",
       "        <AxesSubplot:title={'center':'hd'}>],\n",
       "       [<AxesSubplot:title={'center':'ram'}>,\n",
       "        <AxesSubplot:title={'center':'screen'}>,\n",
       "        <AxesSubplot:title={'center':'ads'}>],\n",
       "       [<AxesSubplot:title={'center':'trend'}>, <AxesSubplot:>,\n",
       "        <AxesSubplot:>]], dtype=object)"
      ]
     },
     "execution_count": 15,
     "metadata": {},
     "output_type": "execute_result"
    },
    {
     "data": {
      "image/png": "[encoded data removed]",
      "text/plain": [
       "<Figure size 864x1080 with 9 Axes>"
      ]
     },
     "metadata": {
      "needs_background": "light"
     },
     "output_type": "display_data"
    }
   ],
   "source": [
    "ComputerPrice.hist(con,figsize=(12,15))"
   ]
  },
  {
   "cell_type": "markdown",
   "id": "55b503ec",
   "metadata": {},
   "source": [
    "# Missing Data Treatment"
   ]
  },
  {
   "cell_type": "code",
   "execution_count": 16,
   "id": "42d88f49",
   "metadata": {},
   "outputs": [
    {
     "data": {
      "text/plain": [
       "price      0\n",
       "speed      0\n",
       "hd         0\n",
       "ram        0\n",
       "screen     0\n",
       "cd         0\n",
       "multi      0\n",
       "premium    0\n",
       "ads        0\n",
       "trend      0\n",
       "dtype: int64"
      ]
     },
     "execution_count": 16,
     "metadata": {},
     "output_type": "execute_result"
    }
   ],
   "source": [
    "ComputerPrice.isnull().sum()"
   ]
  },
  {
   "cell_type": "markdown",
   "id": "6ad2783d",
   "metadata": {},
   "source": [
    "No missing Data"
   ]
  },
  {
   "cell_type": "markdown",
   "id": "0f0dec3f",
   "metadata": {},
   "source": [
    "# Visual exploration of relationship between variables"
   ]
  },
  {
   "cell_type": "raw",
   "id": "6267ee50",
   "metadata": {},
   "source": [
    "Continuous Vs Continuous ---- Scatter Plot\n",
    "Categorical Vs Continuous---- Box Plot\n",
    "Categorical Vs Categorical---- Grouped Bar Plots"
   ]
  },
  {
   "cell_type": "markdown",
   "id": "11156ccd",
   "metadata": {},
   "source": [
    "# Statistical measurement of relationship strength between variables"
   ]
  },
  {
   "cell_type": "raw",
   "id": "1c9807f3",
   "metadata": {},
   "source": [
    "Continuous Vs Continuous ---- Correlation matrix\n",
    "Categorical Vs Continuous---- ANOVA test\n",
    "Categorical Vs Categorical--- Chi-Square test"
   ]
  },
  {
   "cell_type": "raw",
   "id": "f3f218ed",
   "metadata": {},
   "source": [
    "In this case study the Target variable is Continuous, hence below two scenarios will be present\n",
    "\n",
    "Continuous Target Variable Vs Continuous Predictor\n",
    "Continuous Target Variable Vs Categorical Predictor"
   ]
  },
  {
   "cell_type": "markdown",
   "id": "b6b6f227",
   "metadata": {},
   "source": [
    "# Relationship exploration: Continuous Vs Continuous -- Scatter Charts"
   ]
  },
  {
   "cell_type": "code",
   "execution_count": 17,
   "id": "0c38818f",
   "metadata": {},
   "outputs": [
    {
     "data": {
      "text/plain": [
       "['price', 'speed', 'hd', 'ram', 'screen', 'ads', 'trend']"
      ]
     },
     "execution_count": 17,
     "metadata": {},
     "output_type": "execute_result"
    }
   ],
   "source": [
    "con"
   ]
  },
  {
   "cell_type": "code",
   "execution_count": 18,
   "id": "5625b7e6",
   "metadata": {},
   "outputs": [
    {
     "data": {
      "image/png": "[encoded data removed]",
      "text/plain": [
       "<Figure size 720x360 with 1 Axes>"
      ]
     },
     "metadata": {
      "needs_background": "light"
     },
     "output_type": "display_data"
    },
    {
     "data": {
      "image/png": "[encoded data removed]",
      "text/plain": [
       "<Figure size 720x360 with 1 Axes>"
      ]
     },
     "metadata": {
      "needs_background": "light"
     },
     "output_type": "display_data"
    },
    {
     "data": {
      "image/png": "[encoded data removed]",
      "text/plain": [
       "<Figure size 720x360 with 1 Axes>"
      ]
     },
     "metadata": {
      "needs_background": "light"
     },
     "output_type": "display_data"
    },
    {
     "data": {
      "image/png": "[encoded data removed]",
      "text/plain": [
       "<Figure size 720x360 with 1 Axes>"
      ]
     },
     "metadata": {
      "needs_background": "light"
     },
     "output_type": "display_data"
    },
    {
     "data": {
      "image/png": "[encoded data removed]",
      "text/plain": [
       "<Figure size 720x360 with 1 Axes>"
      ]
     },
     "metadata": {
      "needs_background": "light"
     },
     "output_type": "display_data"
    },
    {
     "data": {
      "image/png": "[encoded data removed]",
      "text/plain": [
       "<Figure size 720x360 with 1 Axes>"
      ]
     },
     "metadata": {
      "needs_background": "light"
     },
     "output_type": "display_data"
    },
    {
     "data": {
      "image/png": "[encoded data removed]",
      "text/plain": [
       "<Figure size 720x360 with 1 Axes>"
      ]
     },
     "metadata": {
      "needs_background": "light"
     },
     "output_type": "display_data"
    }
   ],
   "source": [
    "for i in con:\n",
    "    ComputerPrice.plot.scatter(x = i, y = 'price', figsize=(10,5) ,title = i + \" vs \" + 'price')"
   ]
  },
  {
   "cell_type": "code",
   "execution_count": 19,
   "id": "e7498124",
   "metadata": {},
   "outputs": [],
   "source": [
    "# Calculating correlation matrix\n",
    "CorrData = ComputerPrice[con].corr()"
   ]
  },
  {
   "cell_type": "code",
   "execution_count": 20,
   "id": "272ee3f8",
   "metadata": {},
   "outputs": [
    {
     "data": {
      "text/html": [
       "<div>\n",
       "<style scoped>\n",
       "    .dataframe tbody tr th:only-of-type {\n",
       "        vertical-align: middle;\n",
       "    }\n",
       "\n",
       "    .dataframe tbody tr th {\n",
       "        vertical-align: top;\n",
       "    }\n",
       "\n",
       "    .dataframe thead th {\n",
       "        text-align: right;\n",
       "    }\n",
       "</style>\n",
       "<table border=\"1\" class=\"dataframe\">\n",
       "  <thead>\n",
       "    <tr style=\"text-align: right;\">\n",
       "      <th></th>\n",
       "      <th>price</th>\n",
       "      <th>speed</th>\n",
       "      <th>hd</th>\n",
       "      <th>ram</th>\n",
       "      <th>screen</th>\n",
       "      <th>ads</th>\n",
       "      <th>trend</th>\n",
       "    </tr>\n",
       "  </thead>\n",
       "  <tbody>\n",
       "    <tr>\n",
       "      <th>price</th>\n",
       "      <td>1.000000</td>\n",
       "      <td>0.298515</td>\n",
       "      <td>0.428845</td>\n",
       "      <td>0.621144</td>\n",
       "      <td>0.295094</td>\n",
       "      <td>0.056434</td>\n",
       "      <td>-0.201662</td>\n",
       "    </tr>\n",
       "    <tr>\n",
       "      <th>speed</th>\n",
       "      <td>0.298515</td>\n",
       "      <td>1.000000</td>\n",
       "      <td>0.370356</td>\n",
       "      <td>0.232566</td>\n",
       "      <td>0.187519</td>\n",
       "      <td>-0.214349</td>\n",
       "      <td>0.404830</td>\n",
       "    </tr>\n",
       "    <tr>\n",
       "      <th>hd</th>\n",
       "      <td>0.428845</td>\n",
       "      <td>0.370356</td>\n",
       "      <td>1.000000</td>\n",
       "      <td>0.777399</td>\n",
       "      <td>0.232675</td>\n",
       "      <td>-0.323342</td>\n",
       "      <td>0.577599</td>\n",
       "    </tr>\n",
       "    <tr>\n",
       "      <th>ram</th>\n",
       "      <td>0.621144</td>\n",
       "      <td>0.232566</td>\n",
       "      <td>0.777399</td>\n",
       "      <td>1.000000</td>\n",
       "      <td>0.208871</td>\n",
       "      <td>-0.181463</td>\n",
       "      <td>0.276938</td>\n",
       "    </tr>\n",
       "    <tr>\n",
       "      <th>screen</th>\n",
       "      <td>0.295094</td>\n",
       "      <td>0.187519</td>\n",
       "      <td>0.232675</td>\n",
       "      <td>0.208871</td>\n",
       "      <td>1.000000</td>\n",
       "      <td>-0.092144</td>\n",
       "      <td>0.189549</td>\n",
       "    </tr>\n",
       "    <tr>\n",
       "      <th>ads</th>\n",
       "      <td>0.056434</td>\n",
       "      <td>-0.214349</td>\n",
       "      <td>-0.323342</td>\n",
       "      <td>-0.181463</td>\n",
       "      <td>-0.092144</td>\n",
       "      <td>1.000000</td>\n",
       "      <td>-0.320626</td>\n",
       "    </tr>\n",
       "    <tr>\n",
       "      <th>trend</th>\n",
       "      <td>-0.201662</td>\n",
       "      <td>0.404830</td>\n",
       "      <td>0.577599</td>\n",
       "      <td>0.276938</td>\n",
       "      <td>0.189549</td>\n",
       "      <td>-0.320626</td>\n",
       "      <td>1.000000</td>\n",
       "    </tr>\n",
       "  </tbody>\n",
       "</table>\n",
       "</div>"
      ],
      "text/plain": [
       "           price     speed        hd       ram    screen       ads     trend\n",
       "price   1.000000  0.298515  0.428845  0.621144  0.295094  0.056434 -0.201662\n",
       "speed   0.298515  1.000000  0.370356  0.232566  0.187519 -0.214349  0.404830\n",
       "hd      0.428845  0.370356  1.000000  0.777399  0.232675 -0.323342  0.577599\n",
       "ram     0.621144  0.232566  0.777399  1.000000  0.208871 -0.181463  0.276938\n",
       "screen  0.295094  0.187519  0.232675  0.208871  1.000000 -0.092144  0.189549\n",
       "ads     0.056434 -0.214349 -0.323342 -0.181463 -0.092144  1.000000 -0.320626\n",
       "trend  -0.201662  0.404830  0.577599  0.276938  0.189549 -0.320626  1.000000"
      ]
     },
     "execution_count": 20,
     "metadata": {},
     "output_type": "execute_result"
    }
   ],
   "source": [
    "CorrData"
   ]
  },
  {
   "cell_type": "code",
   "execution_count": 21,
   "id": "b59bc40e",
   "metadata": {},
   "outputs": [
    {
     "data": {
      "text/plain": [
       "price     1.000000\n",
       "speed     0.298515\n",
       "hd        0.428845\n",
       "ram       0.621144\n",
       "screen    0.295094\n",
       "trend    -0.201662\n",
       "Name: price, dtype: float64"
      ]
     },
     "execution_count": 21,
     "metadata": {},
     "output_type": "execute_result"
    }
   ],
   "source": [
    "CorrData['price'][abs(CorrData['price'])>0.2]"
   ]
  },
  {
   "cell_type": "markdown",
   "id": "e2a5bada",
   "metadata": {},
   "source": [
    "# Relationship exploration: Categorical Vs Continuous -- Box Plots"
   ]
  },
  {
   "cell_type": "code",
   "execution_count": 22,
   "id": "65bdd6cd",
   "metadata": {},
   "outputs": [
    {
     "data": {
      "text/plain": [
       "['cd', 'multi', 'premium']"
      ]
     },
     "execution_count": 22,
     "metadata": {},
     "output_type": "execute_result"
    }
   ],
   "source": [
    "cat"
   ]
  },
  {
   "cell_type": "code",
   "execution_count": 23,
   "id": "09cd1608",
   "metadata": {},
   "outputs": [
    {
     "data": {
      "image/png": "[encoded data removed]",
      "text/plain": [
       "<Figure size 576x864 with 3 Axes>"
      ]
     },
     "metadata": {
      "needs_background": "light"
     },
     "output_type": "display_data"
    }
   ],
   "source": [
    "import matplotlib.pyplot as plt\n",
    "plt.figure(figsize=(8,12))\n",
    "x = 1\n",
    "for i in cat :\n",
    "    plt.subplot(3,1,x)\n",
    "    sb.boxplot(ComputerPrice[i],ComputerPrice['price'])\n",
    "    x = x + 1"
   ]
  },
  {
   "cell_type": "code",
   "execution_count": 24,
   "id": "6fee145e",
   "metadata": {},
   "outputs": [],
   "source": [
    "#defining funcation for anova \n",
    "def FunctionAnova(inpData, TargetVariable, CategoricalPredictorList):\n",
    "    from scipy.stats import f_oneway\n",
    "\n",
    "    # Creating an empty list of final selected predictors\n",
    "    SelectedPredictors=[]\n",
    "    \n",
    "    print('##### ANOVA Results ##### \\n')\n",
    "    for predictor in CategoricalPredictorList:\n",
    "        CategoryGroupLists=inpData.groupby(predictor)[TargetVariable].apply(list)\n",
    "        AnovaResults = f_oneway(*CategoryGroupLists)\n",
    "\n",
    "        # If the ANOVA P-Value is <0.05, that means we reject H0\n",
    "        if (AnovaResults[1] < 0.05):\n",
    "            print(predictor, 'is correlated with', TargetVariable, '| P-Value:', AnovaResults[1])\n",
    "            SelectedPredictors.append(predictor)\n",
    "        else:\n",
    "            print(predictor, 'is NOT correlated with', TargetVariable, '| P-Value:', AnovaResults[1])\n",
    "    \n",
    "    return(SelectedPredictors)"
   ]
  },
  {
   "cell_type": "code",
   "execution_count": 25,
   "id": "c90dc47f",
   "metadata": {},
   "outputs": [
    {
     "data": {
      "text/plain": [
       "['cd', 'multi', 'premium']"
      ]
     },
     "execution_count": 25,
     "metadata": {},
     "output_type": "execute_result"
    }
   ],
   "source": [
    "cat"
   ]
  },
  {
   "cell_type": "code",
   "execution_count": 26,
   "id": "2255b436",
   "metadata": {},
   "outputs": [
    {
     "name": "stdout",
     "output_type": "stream",
     "text": [
      "##### ANOVA Results ##### \n",
      "\n",
      "cd is correlated with price | P-Value: 8.113565801487017e-55\n",
      "multi is NOT correlated with price | P-Value: 0.19076936432204794\n",
      "premium is correlated with price | P-Value: 2.7969949437607514e-10\n"
     ]
    },
    {
     "data": {
      "text/plain": [
       "['cd', 'premium']"
      ]
     },
     "execution_count": 26,
     "metadata": {},
     "output_type": "execute_result"
    }
   ],
   "source": [
    "FunctionAnova(inpData=ComputerPrice,TargetVariable='price',CategoricalPredictorList=['cd', 'multi', 'premium'])"
   ]
  },
  {
   "cell_type": "markdown",
   "id": "94f7c4c4",
   "metadata": {},
   "source": [
    "# Define X and Y"
   ]
  },
  {
   "cell_type": "code",
   "execution_count": 27,
   "id": "2ead9f0a",
   "metadata": {},
   "outputs": [],
   "source": [
    "Y = ComputerPrice['price']\n",
    "X = ComputerPrice.drop(labels = ['price','multi','ads'],axis=1)"
   ]
  },
  {
   "cell_type": "code",
   "execution_count": 28,
   "id": "0946937e",
   "metadata": {},
   "outputs": [
    {
     "data": {
      "text/html": [
       "<div>\n",
       "<style scoped>\n",
       "    .dataframe tbody tr th:only-of-type {\n",
       "        vertical-align: middle;\n",
       "    }\n",
       "\n",
       "    .dataframe tbody tr th {\n",
       "        vertical-align: top;\n",
       "    }\n",
       "\n",
       "    .dataframe thead th {\n",
       "        text-align: right;\n",
       "    }\n",
       "</style>\n",
       "<table border=\"1\" class=\"dataframe\">\n",
       "  <thead>\n",
       "    <tr style=\"text-align: right;\">\n",
       "      <th></th>\n",
       "      <th>speed</th>\n",
       "      <th>hd</th>\n",
       "      <th>ram</th>\n",
       "      <th>screen</th>\n",
       "      <th>cd</th>\n",
       "      <th>premium</th>\n",
       "      <th>trend</th>\n",
       "    </tr>\n",
       "  </thead>\n",
       "  <tbody>\n",
       "    <tr>\n",
       "      <th>0</th>\n",
       "      <td>25</td>\n",
       "      <td>80</td>\n",
       "      <td>4</td>\n",
       "      <td>14</td>\n",
       "      <td>no</td>\n",
       "      <td>yes</td>\n",
       "      <td>1</td>\n",
       "    </tr>\n",
       "    <tr>\n",
       "      <th>1</th>\n",
       "      <td>33</td>\n",
       "      <td>85</td>\n",
       "      <td>2</td>\n",
       "      <td>14</td>\n",
       "      <td>no</td>\n",
       "      <td>yes</td>\n",
       "      <td>1</td>\n",
       "    </tr>\n",
       "    <tr>\n",
       "      <th>2</th>\n",
       "      <td>25</td>\n",
       "      <td>170</td>\n",
       "      <td>4</td>\n",
       "      <td>15</td>\n",
       "      <td>no</td>\n",
       "      <td>yes</td>\n",
       "      <td>1</td>\n",
       "    </tr>\n",
       "    <tr>\n",
       "      <th>3</th>\n",
       "      <td>25</td>\n",
       "      <td>170</td>\n",
       "      <td>8</td>\n",
       "      <td>14</td>\n",
       "      <td>no</td>\n",
       "      <td>no</td>\n",
       "      <td>1</td>\n",
       "    </tr>\n",
       "    <tr>\n",
       "      <th>4</th>\n",
       "      <td>33</td>\n",
       "      <td>340</td>\n",
       "      <td>16</td>\n",
       "      <td>14</td>\n",
       "      <td>no</td>\n",
       "      <td>yes</td>\n",
       "      <td>1</td>\n",
       "    </tr>\n",
       "    <tr>\n",
       "      <th>...</th>\n",
       "      <td>...</td>\n",
       "      <td>...</td>\n",
       "      <td>...</td>\n",
       "      <td>...</td>\n",
       "      <td>...</td>\n",
       "      <td>...</td>\n",
       "      <td>...</td>\n",
       "    </tr>\n",
       "    <tr>\n",
       "      <th>6254</th>\n",
       "      <td>100</td>\n",
       "      <td>528</td>\n",
       "      <td>8</td>\n",
       "      <td>15</td>\n",
       "      <td>no</td>\n",
       "      <td>yes</td>\n",
       "      <td>35</td>\n",
       "    </tr>\n",
       "    <tr>\n",
       "      <th>6255</th>\n",
       "      <td>66</td>\n",
       "      <td>850</td>\n",
       "      <td>16</td>\n",
       "      <td>15</td>\n",
       "      <td>yes</td>\n",
       "      <td>yes</td>\n",
       "      <td>35</td>\n",
       "    </tr>\n",
       "    <tr>\n",
       "      <th>6256</th>\n",
       "      <td>100</td>\n",
       "      <td>1200</td>\n",
       "      <td>24</td>\n",
       "      <td>15</td>\n",
       "      <td>yes</td>\n",
       "      <td>yes</td>\n",
       "      <td>35</td>\n",
       "    </tr>\n",
       "    <tr>\n",
       "      <th>6257</th>\n",
       "      <td>100</td>\n",
       "      <td>850</td>\n",
       "      <td>16</td>\n",
       "      <td>15</td>\n",
       "      <td>yes</td>\n",
       "      <td>yes</td>\n",
       "      <td>35</td>\n",
       "    </tr>\n",
       "    <tr>\n",
       "      <th>6258</th>\n",
       "      <td>100</td>\n",
       "      <td>850</td>\n",
       "      <td>16</td>\n",
       "      <td>17</td>\n",
       "      <td>yes</td>\n",
       "      <td>yes</td>\n",
       "      <td>35</td>\n",
       "    </tr>\n",
       "  </tbody>\n",
       "</table>\n",
       "<p>6183 rows × 7 columns</p>\n",
       "</div>"
      ],
      "text/plain": [
       "      speed    hd  ram  screen   cd premium  trend\n",
       "0        25    80    4      14   no     yes      1\n",
       "1        33    85    2      14   no     yes      1\n",
       "2        25   170    4      15   no     yes      1\n",
       "3        25   170    8      14   no      no      1\n",
       "4        33   340   16      14   no     yes      1\n",
       "...     ...   ...  ...     ...  ...     ...    ...\n",
       "6254    100   528    8      15   no     yes     35\n",
       "6255     66   850   16      15  yes     yes     35\n",
       "6256    100  1200   24      15  yes     yes     35\n",
       "6257    100   850   16      15  yes     yes     35\n",
       "6258    100   850   16      17  yes     yes     35\n",
       "\n",
       "[6183 rows x 7 columns]"
      ]
     },
     "execution_count": 28,
     "metadata": {},
     "output_type": "execute_result"
    }
   ],
   "source": [
    "X"
   ]
  },
  {
   "cell_type": "code",
   "execution_count": 29,
   "id": "40cf28d9",
   "metadata": {},
   "outputs": [
    {
     "data": {
      "text/plain": [
       "0       1499\n",
       "1       1795\n",
       "2       1595\n",
       "3       1849\n",
       "4       3295\n",
       "        ... \n",
       "6254    1690\n",
       "6255    2223\n",
       "6256    2654\n",
       "6257    2195\n",
       "6258    2490\n",
       "Name: price, Length: 6183, dtype: int64"
      ]
     },
     "execution_count": 29,
     "metadata": {},
     "output_type": "execute_result"
    }
   ],
   "source": [
    "Y"
   ]
  },
  {
   "cell_type": "code",
   "execution_count": 30,
   "id": "95968200",
   "metadata": {},
   "outputs": [
    {
     "data": {
      "text/plain": [
       "(6183, 7)"
      ]
     },
     "execution_count": 30,
     "metadata": {},
     "output_type": "execute_result"
    }
   ],
   "source": [
    "X.shape"
   ]
  },
  {
   "cell_type": "code",
   "execution_count": 31,
   "id": "2ccbb51c",
   "metadata": {},
   "outputs": [
    {
     "data": {
      "text/plain": [
       "(6183,)"
      ]
     },
     "execution_count": 31,
     "metadata": {},
     "output_type": "execute_result"
    }
   ],
   "source": [
    "Y.shape"
   ]
  },
  {
   "cell_type": "code",
   "execution_count": 32,
   "id": "46e6d393",
   "metadata": {},
   "outputs": [],
   "source": [
    "X.index = range(0,6183,1)\n",
    "Y.index = range(0,6183,1)"
   ]
  },
  {
   "cell_type": "markdown",
   "id": "70002a15",
   "metadata": {},
   "source": [
    "# Seperating continous and categorical columns from X"
   ]
  },
  {
   "cell_type": "code",
   "execution_count": 33,
   "id": "428a8181",
   "metadata": {},
   "outputs": [],
   "source": [
    "cat = []\n",
    "con = []\n",
    "\n",
    "for i in X.columns:\n",
    "    if(X[i].dtypes == \"object\"):\n",
    "        cat.append(i)\n",
    "    else:\n",
    "        con.append(i)"
   ]
  },
  {
   "cell_type": "code",
   "execution_count": 34,
   "id": "3ded3175",
   "metadata": {},
   "outputs": [
    {
     "data": {
      "text/plain": [
       "['cd', 'premium']"
      ]
     },
     "execution_count": 34,
     "metadata": {},
     "output_type": "execute_result"
    }
   ],
   "source": [
    "cat"
   ]
  },
  {
   "cell_type": "code",
   "execution_count": 35,
   "id": "297abd62",
   "metadata": {},
   "outputs": [
    {
     "data": {
      "text/plain": [
       "['speed', 'hd', 'ram', 'screen', 'trend']"
      ]
     },
     "execution_count": 35,
     "metadata": {},
     "output_type": "execute_result"
    }
   ],
   "source": [
    "con"
   ]
  },
  {
   "cell_type": "markdown",
   "id": "7d843615",
   "metadata": {},
   "source": [
    "# Standardization of Data"
   ]
  },
  {
   "cell_type": "code",
   "execution_count": 36,
   "id": "8291c79b",
   "metadata": {},
   "outputs": [],
   "source": [
    "from sklearn.preprocessing import StandardScaler\n",
    "ss = StandardScaler()\n",
    "X1 = pd.DataFrame(ss.fit_transform(X[con]),columns=con)\n",
    "X2 = pd.get_dummies(X[cat])\n",
    "Xnew = X1.join(X2)"
   ]
  },
  {
   "cell_type": "code",
   "execution_count": 37,
   "id": "87c4446a",
   "metadata": {},
   "outputs": [
    {
     "data": {
      "text/html": [
       "<div>\n",
       "<style scoped>\n",
       "    .dataframe tbody tr th:only-of-type {\n",
       "        vertical-align: middle;\n",
       "    }\n",
       "\n",
       "    .dataframe tbody tr th {\n",
       "        vertical-align: top;\n",
       "    }\n",
       "\n",
       "    .dataframe thead th {\n",
       "        text-align: right;\n",
       "    }\n",
       "</style>\n",
       "<table border=\"1\" class=\"dataframe\">\n",
       "  <thead>\n",
       "    <tr style=\"text-align: right;\">\n",
       "      <th></th>\n",
       "      <th>speed</th>\n",
       "      <th>hd</th>\n",
       "      <th>ram</th>\n",
       "      <th>screen</th>\n",
       "      <th>trend</th>\n",
       "      <th>cd_no</th>\n",
       "      <th>cd_yes</th>\n",
       "      <th>premium_no</th>\n",
       "      <th>premium_yes</th>\n",
       "    </tr>\n",
       "  </thead>\n",
       "  <tbody>\n",
       "    <tr>\n",
       "      <th>0</th>\n",
       "      <td>-1.280364</td>\n",
       "      <td>-1.301897</td>\n",
       "      <td>-0.762182</td>\n",
       "      <td>-0.677077</td>\n",
       "      <td>-1.891109</td>\n",
       "      <td>1</td>\n",
       "      <td>0</td>\n",
       "      <td>0</td>\n",
       "      <td>1</td>\n",
       "    </tr>\n",
       "    <tr>\n",
       "      <th>1</th>\n",
       "      <td>-0.902808</td>\n",
       "      <td>-1.282625</td>\n",
       "      <td>-1.116244</td>\n",
       "      <td>-0.677077</td>\n",
       "      <td>-1.891109</td>\n",
       "      <td>1</td>\n",
       "      <td>0</td>\n",
       "      <td>0</td>\n",
       "      <td>1</td>\n",
       "    </tr>\n",
       "    <tr>\n",
       "      <th>2</th>\n",
       "      <td>-1.280364</td>\n",
       "      <td>-0.954993</td>\n",
       "      <td>-0.762182</td>\n",
       "      <td>0.425179</td>\n",
       "      <td>-1.891109</td>\n",
       "      <td>1</td>\n",
       "      <td>0</td>\n",
       "      <td>0</td>\n",
       "      <td>1</td>\n",
       "    </tr>\n",
       "    <tr>\n",
       "      <th>3</th>\n",
       "      <td>-1.280364</td>\n",
       "      <td>-0.954993</td>\n",
       "      <td>-0.054057</td>\n",
       "      <td>-0.677077</td>\n",
       "      <td>-1.891109</td>\n",
       "      <td>1</td>\n",
       "      <td>0</td>\n",
       "      <td>1</td>\n",
       "      <td>0</td>\n",
       "    </tr>\n",
       "    <tr>\n",
       "      <th>4</th>\n",
       "      <td>-0.902808</td>\n",
       "      <td>-0.299729</td>\n",
       "      <td>1.362193</td>\n",
       "      <td>-0.677077</td>\n",
       "      <td>-1.891109</td>\n",
       "      <td>1</td>\n",
       "      <td>0</td>\n",
       "      <td>0</td>\n",
       "      <td>1</td>\n",
       "    </tr>\n",
       "    <tr>\n",
       "      <th>...</th>\n",
       "      <td>...</td>\n",
       "      <td>...</td>\n",
       "      <td>...</td>\n",
       "      <td>...</td>\n",
       "      <td>...</td>\n",
       "      <td>...</td>\n",
       "      <td>...</td>\n",
       "      <td>...</td>\n",
       "      <td>...</td>\n",
       "    </tr>\n",
       "    <tr>\n",
       "      <th>6178</th>\n",
       "      <td>2.259219</td>\n",
       "      <td>0.424916</td>\n",
       "      <td>-0.054057</td>\n",
       "      <td>0.425179</td>\n",
       "      <td>2.411363</td>\n",
       "      <td>1</td>\n",
       "      <td>0</td>\n",
       "      <td>0</td>\n",
       "      <td>1</td>\n",
       "    </tr>\n",
       "    <tr>\n",
       "      <th>6179</th>\n",
       "      <td>0.654608</td>\n",
       "      <td>1.666064</td>\n",
       "      <td>1.362193</td>\n",
       "      <td>0.425179</td>\n",
       "      <td>2.411363</td>\n",
       "      <td>0</td>\n",
       "      <td>1</td>\n",
       "      <td>0</td>\n",
       "      <td>1</td>\n",
       "    </tr>\n",
       "    <tr>\n",
       "      <th>6180</th>\n",
       "      <td>2.259219</td>\n",
       "      <td>3.015137</td>\n",
       "      <td>2.778442</td>\n",
       "      <td>0.425179</td>\n",
       "      <td>2.411363</td>\n",
       "      <td>0</td>\n",
       "      <td>1</td>\n",
       "      <td>0</td>\n",
       "      <td>1</td>\n",
       "    </tr>\n",
       "    <tr>\n",
       "      <th>6181</th>\n",
       "      <td>2.259219</td>\n",
       "      <td>1.666064</td>\n",
       "      <td>1.362193</td>\n",
       "      <td>0.425179</td>\n",
       "      <td>2.411363</td>\n",
       "      <td>0</td>\n",
       "      <td>1</td>\n",
       "      <td>0</td>\n",
       "      <td>1</td>\n",
       "    </tr>\n",
       "    <tr>\n",
       "      <th>6182</th>\n",
       "      <td>2.259219</td>\n",
       "      <td>1.666064</td>\n",
       "      <td>1.362193</td>\n",
       "      <td>2.629691</td>\n",
       "      <td>2.411363</td>\n",
       "      <td>0</td>\n",
       "      <td>1</td>\n",
       "      <td>0</td>\n",
       "      <td>1</td>\n",
       "    </tr>\n",
       "  </tbody>\n",
       "</table>\n",
       "<p>6183 rows × 9 columns</p>\n",
       "</div>"
      ],
      "text/plain": [
       "         speed        hd       ram    screen     trend  cd_no  cd_yes  \\\n",
       "0    -1.280364 -1.301897 -0.762182 -0.677077 -1.891109      1       0   \n",
       "1    -0.902808 -1.282625 -1.116244 -0.677077 -1.891109      1       0   \n",
       "2    -1.280364 -0.954993 -0.762182  0.425179 -1.891109      1       0   \n",
       "3    -1.280364 -0.954993 -0.054057 -0.677077 -1.891109      1       0   \n",
       "4    -0.902808 -0.299729  1.362193 -0.677077 -1.891109      1       0   \n",
       "...        ...       ...       ...       ...       ...    ...     ...   \n",
       "6178  2.259219  0.424916 -0.054057  0.425179  2.411363      1       0   \n",
       "6179  0.654608  1.666064  1.362193  0.425179  2.411363      0       1   \n",
       "6180  2.259219  3.015137  2.778442  0.425179  2.411363      0       1   \n",
       "6181  2.259219  1.666064  1.362193  0.425179  2.411363      0       1   \n",
       "6182  2.259219  1.666064  1.362193  2.629691  2.411363      0       1   \n",
       "\n",
       "      premium_no  premium_yes  \n",
       "0              0            1  \n",
       "1              0            1  \n",
       "2              0            1  \n",
       "3              1            0  \n",
       "4              0            1  \n",
       "...          ...          ...  \n",
       "6178           0            1  \n",
       "6179           0            1  \n",
       "6180           0            1  \n",
       "6181           0            1  \n",
       "6182           0            1  \n",
       "\n",
       "[6183 rows x 9 columns]"
      ]
     },
     "execution_count": 37,
     "metadata": {},
     "output_type": "execute_result"
    }
   ],
   "source": [
    "Xnew"
   ]
  },
  {
   "cell_type": "markdown",
   "id": "2132f90b",
   "metadata": {},
   "source": [
    "# Finding Outliers "
   ]
  },
  {
   "cell_type": "code",
   "execution_count": 38,
   "id": "625a073c",
   "metadata": {},
   "outputs": [],
   "source": [
    "Outilers = []\n",
    "for i in Xnew:\n",
    "    Outilers.extend(list(Xnew[Xnew[i]>3].index))\n",
    "    Outilers.extend(list(Xnew[Xnew[i]<-3].index))"
   ]
  },
  {
   "cell_type": "markdown",
   "id": "80c6f16e",
   "metadata": {},
   "source": [
    "# Removing Outliers from both X and Y"
   ]
  },
  {
   "cell_type": "code",
   "execution_count": 39,
   "id": "e45f3119",
   "metadata": {},
   "outputs": [],
   "source": [
    "Xnew = Xnew.drop(index=Outilers,axis=0)\n",
    "Y = Y.drop(index=Outilers,axis=0)"
   ]
  },
  {
   "cell_type": "code",
   "execution_count": 40,
   "id": "5c2648f2",
   "metadata": {},
   "outputs": [
    {
     "data": {
      "text/plain": [
       "(6087, 9)"
      ]
     },
     "execution_count": 40,
     "metadata": {},
     "output_type": "execute_result"
    }
   ],
   "source": [
    "Xnew.shape"
   ]
  },
  {
   "cell_type": "code",
   "execution_count": 41,
   "id": "79003c45",
   "metadata": {},
   "outputs": [
    {
     "data": {
      "text/plain": [
       "(6087,)"
      ]
     },
     "execution_count": 41,
     "metadata": {},
     "output_type": "execute_result"
    }
   ],
   "source": [
    "Y.shape"
   ]
  },
  {
   "cell_type": "markdown",
   "id": "13e75fa4",
   "metadata": {},
   "source": [
    "# Splitting Data into training and testing set"
   ]
  },
  {
   "cell_type": "code",
   "execution_count": 42,
   "id": "831afdef",
   "metadata": {},
   "outputs": [],
   "source": [
    "from sklearn.model_selection import train_test_split\n",
    "xtrain,xtest,ytrain,ytest = train_test_split(Xnew,Y,test_size=0.3,random_state=42)"
   ]
  },
  {
   "cell_type": "markdown",
   "id": "8dbd2786",
   "metadata": {},
   "source": [
    "# Multiple Linear Regression"
   ]
  },
  {
   "cell_type": "code",
   "execution_count": 43,
   "id": "e75f80fd",
   "metadata": {},
   "outputs": [
    {
     "name": "stdout",
     "output_type": "stream",
     "text": [
      "\n",
      "R2_score :  0.7613846529439022\n",
      "\n",
      "Accuracy score for 10-fold cross_valdidation :  [86.74511618 87.82636237 89.49470081 88.70472879 90.81497997 92.00643294\n",
      " 91.59198649 90.7568624  89.47073045 87.53094793]\n",
      "\n",
      "Final Average Accuracy of model :  89.49\n"
     ]
    }
   ],
   "source": [
    "from sklearn.linear_model import LinearRegression\n",
    "lr = LinearRegression()\n",
    "lrModel = lr.fit(xtrain,ytrain)\n",
    "#prediction on testing data\n",
    "prediction = lrModel.predict(xtest)\n",
    "\n",
    "#Goodness of model\n",
    "from sklearn.metrics import r2_score\n",
    "print(\"\\nR2_score : \",r2_score(ytrain,lrModel.predict(xtrain)))\n",
    "#Defining Accuracy \n",
    "import numpy as np\n",
    "def Accuracy_score(orig,pred):\n",
    "    MAPE = np.mean(100*(np.abs(orig-pred)/orig))\n",
    "    return(100-MAPE)\n",
    "from sklearn.metrics import make_scorer\n",
    "from sklearn.model_selection import cross_val_score\n",
    "custom_accuracy = make_scorer(Accuracy_score,greater_is_better=True)\n",
    "#calculating accuracy for 10-fold cross validation\n",
    "Accuracy_results = cross_val_score(lrModel,Xnew,Y,cv=10,scoring=custom_accuracy)\n",
    "print(\"\\nAccuracy score for 10-fold cross_valdidation : \",Accuracy_results)\n",
    "print(\"\\nFinal Average Accuracy of model : \",round(Accuracy_results.mean(),2))"
   ]
  },
  {
   "cell_type": "markdown",
   "id": "7ee49801",
   "metadata": {},
   "source": [
    "# Decision Tree"
   ]
  },
  {
   "cell_type": "code",
   "execution_count": 44,
   "id": "a81496cb",
   "metadata": {},
   "outputs": [
    {
     "name": "stdout",
     "output_type": "stream",
     "text": [
      "Value of max_depth :  1\n",
      "\n",
      "R2_score :  0.2962288691645475\n",
      "\n",
      "Accuracy score for 10-fold cross_valdidation :  [81.99514828 84.69755049 85.09324762 85.49993034 81.95453228 82.21947908\n",
      " 81.70180155 80.20214778 77.15410383 71.29992665]\n",
      "\n",
      "Final Average Accuracy of model :  81.18\n",
      "\n",
      "########################################################################\n",
      "Value of max_depth :  2\n",
      "\n",
      "R2_score :  0.43457215444966635\n",
      "\n",
      "Accuracy score for 10-fold cross_valdidation :  [84.75957515 85.47827491 86.14212039 86.34090812 85.98848766 85.39773032\n",
      " 83.59296727 84.18916346 81.53775586 73.80979409]\n",
      "\n",
      "Final Average Accuracy of model :  83.72\n",
      "\n",
      "########################################################################\n",
      "Value of max_depth :  3\n",
      "\n",
      "R2_score :  0.5632355727017018\n",
      "\n",
      "Accuracy score for 10-fold cross_valdidation :  [85.76909906 85.95264418 86.66786421 86.40435582 86.39405218 84.62968671\n",
      " 83.64594058 86.973816   87.86192477 76.45054089]\n",
      "\n",
      "Final Average Accuracy of model :  85.07\n",
      "\n",
      "########################################################################\n",
      "Value of max_depth :  4\n",
      "\n",
      "R2_score :  0.6568400210187474\n",
      "\n",
      "Accuracy score for 10-fold cross_valdidation :  [85.49524855 88.4206851  88.4610436  87.73713483 85.96430554 84.45838683\n",
      " 83.73504103 86.92632571 88.75128934 80.02520115]\n",
      "\n",
      "Final Average Accuracy of model :  86.0\n",
      "\n",
      "########################################################################\n",
      "Value of max_depth :  5\n",
      "\n",
      "R2_score :  0.7400922546775499\n",
      "\n",
      "Accuracy score for 10-fold cross_valdidation :  [87.07351152 89.70560194 89.99756553 88.50949853 87.74514801 87.48466712\n",
      " 85.39859174 88.14308008 89.68570146 77.59886707]\n",
      "\n",
      "Final Average Accuracy of model :  87.13\n",
      "\n",
      "########################################################################\n",
      "Value of max_depth :  6\n",
      "\n",
      "R2_score :  0.8147410088959495\n",
      "\n",
      "Accuracy score for 10-fold cross_valdidation :  [88.52785016 90.60265178 91.46840348 89.21353542 88.2104541  88.77188984\n",
      " 88.32591252 88.86388831 90.87485468 82.86953659]\n",
      "\n",
      "Final Average Accuracy of model :  88.77\n",
      "\n",
      "########################################################################\n",
      "Value of max_depth :  7\n",
      "\n",
      "R2_score :  0.8708377228346613\n",
      "\n",
      "Accuracy score for 10-fold cross_valdidation :  [88.94884315 91.38151652 91.98572893 89.44163287 89.55939463 89.81933951\n",
      " 89.78562292 90.54953845 91.92387314 86.13885819]\n",
      "\n",
      "Final Average Accuracy of model :  89.95\n",
      "\n",
      "########################################################################\n",
      "Value of max_depth :  8\n",
      "\n",
      "R2_score :  0.8987696836715304\n",
      "\n",
      "Accuracy score for 10-fold cross_valdidation :  [88.9564932  91.96813563 92.64333123 89.75978328 90.39748525 90.80513409\n",
      " 90.24540819 91.48808811 92.42122878 88.51106622]\n",
      "\n",
      "Final Average Accuracy of model :  90.72\n",
      "\n",
      "########################################################################\n",
      "Value of max_depth :  9\n",
      "\n",
      "R2_score :  0.9217364625750962\n",
      "\n",
      "Accuracy score for 10-fold cross_valdidation :  [88.17088847 92.6448002  93.22843488 90.73618569 90.87619098 91.88974664\n",
      " 90.5762631  92.31282685 92.63998893 89.26474137]\n",
      "\n",
      "Final Average Accuracy of model :  91.23\n",
      "\n",
      "########################################################################\n",
      "Value of max_depth :  10\n",
      "\n",
      "R2_score :  0.9379891508623992\n",
      "\n",
      "Accuracy score for 10-fold cross_valdidation :  [88.24948583 92.7773389  93.61944331 91.07142233 91.52537842 92.08672853\n",
      " 91.14483537 92.56107799 92.68572762 90.26079972]\n",
      "\n",
      "Final Average Accuracy of model :  91.6\n",
      "\n",
      "########################################################################\n",
      "Value of max_depth :  11\n",
      "\n",
      "R2_score :  0.9498985495048309\n",
      "\n",
      "Accuracy score for 10-fold cross_valdidation :  [88.38628811 92.62905852 93.90576031 91.79756365 91.76780526 92.2560708\n",
      " 91.68761398 92.70197166 93.09260234 90.08218581]\n",
      "\n",
      "Final Average Accuracy of model :  91.83\n",
      "\n",
      "########################################################################\n",
      "Value of max_depth :  12\n",
      "\n",
      "R2_score :  0.9592308142493701\n",
      "\n",
      "Accuracy score for 10-fold cross_valdidation :  [87.76677968 92.76436935 94.12941087 92.05052838 92.0009036  92.21068302\n",
      " 91.95326332 92.81852236 93.20818091 90.36698559]\n",
      "\n",
      "Final Average Accuracy of model :  91.93\n",
      "\n",
      "########################################################################\n",
      "Value of max_depth :  13\n",
      "\n",
      "R2_score :  0.9656287028680804\n",
      "\n",
      "Accuracy score for 10-fold cross_valdidation :  [87.9850736  92.899795   94.2940523  92.10347486 92.0039943  92.12692064\n",
      " 92.03736831 92.65937054 93.4146281  90.27158188]\n",
      "\n",
      "Final Average Accuracy of model :  91.98\n",
      "\n",
      "########################################################################\n",
      "Value of max_depth :  14\n",
      "\n",
      "R2_score :  0.9698534019031434\n",
      "\n",
      "Accuracy score for 10-fold cross_valdidation :  [88.31953995 92.95176388 94.62149326 92.26550989 91.95930958 92.17803648\n",
      " 92.13423638 92.63487793 93.39264183 90.28950665]\n",
      "\n",
      "Final Average Accuracy of model :  92.07\n",
      "\n",
      "########################################################################\n",
      "Value of max_depth :  15\n",
      "\n",
      "R2_score :  0.9731923779863031\n",
      "\n",
      "Accuracy score for 10-fold cross_valdidation :  [88.52717419 92.74811482 94.71645148 92.1311967  92.21651164 91.99327802\n",
      " 92.03163596 92.50107033 93.27694714 90.31546578]\n",
      "\n",
      "Final Average Accuracy of model :  92.05\n",
      "\n",
      "########################################################################\n",
      "Value of max_depth :  16\n",
      "\n",
      "R2_score :  0.9750352706647206\n",
      "\n",
      "Accuracy score for 10-fold cross_valdidation :  [88.49034668 92.7051098  94.80396047 92.15714542 92.38043822 91.7491652\n",
      " 92.03926847 92.3334069  93.4375399  90.34416444]\n",
      "\n",
      "Final Average Accuracy of model :  92.04\n",
      "\n",
      "########################################################################\n",
      "Value of max_depth :  17\n",
      "\n",
      "R2_score :  0.9760082258445059\n",
      "\n",
      "Accuracy score for 10-fold cross_valdidation :  [88.51541982 92.92647834 94.83334303 92.06169578 92.39271377 92.01694728\n",
      " 92.2075109  92.44963076 93.42581064 90.32098296]\n",
      "\n",
      "Final Average Accuracy of model :  92.12\n",
      "\n",
      "########################################################################\n",
      "Value of max_depth :  18\n",
      "\n",
      "R2_score :  0.9763994211249498\n",
      "\n",
      "Accuracy score for 10-fold cross_valdidation :  [88.50586008 92.87816153 94.82622134 92.1639665  92.46489513 92.12255106\n",
      " 92.03280872 92.38808523 93.38517163 90.36047988]\n",
      "\n",
      "Final Average Accuracy of model :  92.11\n",
      "\n",
      "########################################################################\n",
      "Value of max_depth :  19\n",
      "\n",
      "R2_score :  0.9766437746475505\n",
      "\n",
      "Accuracy score for 10-fold cross_valdidation :  [88.33021748 92.94537638 94.78315459 91.97152189 92.35064923 91.82071193\n",
      " 92.04826282 92.33199082 93.28927915 90.38461367]\n",
      "\n",
      "Final Average Accuracy of model :  92.03\n",
      "\n",
      "########################################################################\n",
      "Value of max_depth :  20\n",
      "\n",
      "R2_score :  0.9767392474474791\n",
      "\n",
      "Accuracy score for 10-fold cross_valdidation :  [88.34429926 92.97482009 94.76417204 92.20522568 92.41156821 92.08219954\n",
      " 92.07624809 92.4376154  93.32805839 90.34055187]\n",
      "\n",
      "Final Average Accuracy of model :  92.1\n",
      "\n",
      "########################################################################\n",
      "Value of max_depth :  21\n",
      "\n",
      "R2_score :  0.9767420344169747\n",
      "\n",
      "Accuracy score for 10-fold cross_valdidation :  [88.34429926 92.94383603 94.7351141  91.90862561 92.41189261 92.07891374\n",
      " 92.13095425 92.47099196 93.33195541 90.38004879]\n",
      "\n",
      "Final Average Accuracy of model :  92.07\n",
      "\n",
      "########################################################################\n",
      "Value of max_depth :  22\n",
      "\n",
      "R2_score :  0.9767420344169747\n",
      "\n",
      "Accuracy score for 10-fold cross_valdidation :  [88.34429926 92.89420355 94.7630796  91.90862561 92.37782117 92.20129742\n",
      " 92.16071776 92.43353923 93.35824876 90.38461367]\n",
      "\n",
      "Final Average Accuracy of model :  92.08\n",
      "\n",
      "########################################################################\n",
      "Value of max_depth :  23\n",
      "\n",
      "R2_score :  0.9767420344169747\n",
      "\n",
      "Accuracy score for 10-fold cross_valdidation :  [88.34429926 92.89420355 94.7630796  92.02556799 92.37985256 92.20129742\n",
      " 92.16071776 92.44072412 93.34173507 90.34055187]\n",
      "\n",
      "Final Average Accuracy of model :  92.09\n",
      "\n",
      "########################################################################\n",
      "Value of max_depth :  24\n",
      "\n",
      "R2_score :  0.9767420344169747\n",
      "\n",
      "Accuracy score for 10-fold cross_valdidation :  [88.34429926 92.89420355 94.7630796  92.02556799 92.37985256 92.20129742\n",
      " 92.16071776 92.44072412 93.34173507 90.34055187]\n",
      "\n",
      "Final Average Accuracy of model :  92.09\n",
      "\n",
      "########################################################################\n"
     ]
    }
   ],
   "source": [
    "from sklearn.tree import DecisionTreeRegressor\n",
    "for i in range(1,25,1):\n",
    "    dtr = DecisionTreeRegressor(max_depth = i,criterion='mse',random_state=42)\n",
    "    dtrModel = dtr.fit(xtrain,ytrain)\n",
    "    #prediction on testing data\n",
    "    prediction = dtrModel.predict(xtest)\n",
    "    print(\"Value of max_depth : \",i)\n",
    "    #Goodness of model\n",
    "    from sklearn.metrics import r2_score\n",
    "    print(\"\\nR2_score : \",r2_score(ytrain,dtrModel.predict(xtrain)))\n",
    "    #Defining Accuracy \n",
    "    import numpy as np\n",
    "    def Accuracy_score(orig,pred):\n",
    "        MAPE = np.mean(100*(np.abs(orig-pred)/orig))\n",
    "        return(100-MAPE)\n",
    "    from sklearn.metrics import make_scorer\n",
    "    from sklearn.model_selection import cross_val_score\n",
    "    custom_accuracy = make_scorer(Accuracy_score,greater_is_better=True)\n",
    "    #calculating accuracy for 10-fold cross validation\n",
    "    Accuracy_results = cross_val_score(dtrModel,Xnew,Y,cv=10,scoring=custom_accuracy)\n",
    "    print(\"\\nAccuracy score for 10-fold cross_valdidation : \",Accuracy_results)\n",
    "    print(\"\\nFinal Average Accuracy of model : \",round(Accuracy_results.mean(),2))\n",
    "    print(\"\\n########################################################################\")"
   ]
  },
  {
   "cell_type": "code",
   "execution_count": 45,
   "id": "ad9e59b0",
   "metadata": {},
   "outputs": [
    {
     "name": "stdout",
     "output_type": "stream",
     "text": [
      "\n",
      "R2_score :  0.9760082258445059\n",
      "\n",
      "Accuracy score for 10-fold cross_valdidation :  [88.51541982 92.92647834 94.83334303 92.06169578 92.39271377 92.01694728\n",
      " 92.2075109  92.44963076 93.42581064 90.32098296]\n",
      "\n",
      "Final Average Accuracy of model :  92.12\n"
     ]
    }
   ],
   "source": [
    "#creating Decission tree model using best values \n",
    "dtr = DecisionTreeRegressor(max_depth = 17,criterion='mse',random_state=42)\n",
    "dtrModel = dtr.fit(xtrain,ytrain)#prediction on testing data\n",
    "prediction = dtrModel.predict(xtest)\n",
    "\n",
    "#Goodness of model\n",
    "from sklearn.metrics import r2_score\n",
    "print(\"\\nR2_score : \",r2_score(ytrain,dtrModel.predict(xtrain)))\n",
    "#Defining Accuracy \n",
    "import numpy as np\n",
    "def Accuracy_score(orig,pred):\n",
    "    MAPE = np.mean(100*(np.abs(orig-pred)/orig))\n",
    "    return(100-MAPE)\n",
    "from sklearn.metrics import make_scorer\n",
    "from sklearn.model_selection import cross_val_score\n",
    "custom_accuracy = make_scorer(Accuracy_score,greater_is_better=True)\n",
    "#calculating accuracy for 10-fold cross validation\n",
    "Accuracy_results = cross_val_score(dtrModel,Xnew,Y,cv=10,scoring=custom_accuracy)\n",
    "print(\"\\nAccuracy score for 10-fold cross_valdidation : \",Accuracy_results)\n",
    "print(\"\\nFinal Average Accuracy of model : \",round(Accuracy_results.mean(),2))\n"
   ]
  },
  {
   "cell_type": "markdown",
   "id": "01b4018b",
   "metadata": {},
   "source": [
    "# Random Forest"
   ]
  },
  {
   "cell_type": "code",
   "execution_count": 53,
   "id": "81628e3a",
   "metadata": {},
   "outputs": [
    {
     "name": "stdout",
     "output_type": "stream",
     "text": [
      "\n",
      "R2_score :  0.9657527589408339\n",
      "\n",
      "Accuracy score for 10-fold cross_valdidation :  [89.40132909 93.60257173 94.68574565 92.83750954 92.65637547 93.93041671\n",
      " 92.72567593 93.46608559 94.033904   90.66906225]\n",
      "\n",
      "Final Average Accuracy of model :  92.8\n"
     ]
    }
   ],
   "source": [
    "rfr = RandomForestRegressor(n_estimators=100,max_depth = 13,criterion='mse',random_state=42)\n",
    "rfrModel = rfr.fit(xtrain,ytrain)\n",
    "#prediction on testing data\n",
    "prediction = rfrModel.predict(xtest)\n",
    "\n",
    "#Goodness of model\n",
    "from sklearn.metrics import r2_score\n",
    "print(\"\\nR2_score : \",r2_score(ytrain,rfrModel.predict(xtrain)))\n",
    "#Defining Accuracy \n",
    "import numpy as np\n",
    "def Accuracy_score(orig,pred):\n",
    "    MAPE = np.mean(100*(np.abs(orig-pred)/orig))\n",
    "    return(100-MAPE)\n",
    "from sklearn.metrics import make_scorer\n",
    "from sklearn.model_selection import cross_val_score\n",
    "custom_accuracy = make_scorer(Accuracy_score,greater_is_better=True)\n",
    "#calculating accuracy for 10-fold cross validation\n",
    "Accuracy_results = cross_val_score(rfrModel,Xnew,Y,cv=10,scoring=custom_accuracy)\n",
    "print(\"\\nAccuracy score for 10-fold cross_valdidation : \",Accuracy_results)\n",
    "print(\"\\nFinal Average Accuracy of model : \",round(Accuracy_results.mean(),2))"
   ]
  },
  {
   "cell_type": "markdown",
   "id": "c7f19dcb",
   "metadata": {},
   "source": [
    "# AdaBoost "
   ]
  },
  {
   "cell_type": "code",
   "execution_count": 48,
   "id": "369b49e2",
   "metadata": {},
   "outputs": [
    {
     "name": "stdout",
     "output_type": "stream",
     "text": [
      "AdaBoostRegressor(base_estimator=DecisionTreeRegressor(max_depth=10),\n",
      "                  learning_rate=0.01, n_estimators=100)\n",
      "\n",
      "R2 score :  0.9484823463463987\n",
      "\n",
      "Accuracy score for 10-fold cross validation : \n",
      " [89.01585705 93.52665377 94.22668559 91.90254748 92.41254277 93.54815613\n",
      " 92.03951187 93.29763772 93.37391142 90.41444832]\n",
      "\n",
      "Final Average Accuracy of the model :  92.38\n"
     ]
    }
   ],
   "source": [
    "#Adaboost Model \n",
    "from sklearn.ensemble import AdaBoostRegressor\n",
    "from sklearn.tree import DecisionTreeRegressor\n",
    "dtr = DecisionTreeRegressor(max_depth=10)\n",
    "abr = AdaBoostRegressor(n_estimators=100,base_estimator=dtr,learning_rate=0.01)\n",
    "\n",
    "#print params of Adaboost\n",
    "print(abr)\n",
    "\n",
    "#creating model \n",
    "abrModel = abr.fit(xtrain,ytrain)\n",
    "#prediction on test data\n",
    "prediction = abrModel.predict(xtest)\n",
    "#Finding Goodness of fit of the model\n",
    "from sklearn.metrics import r2_score\n",
    "print(\"\\nR2 score : \",r2_score(ytrain,abrModel.predict(xtrain)))\n",
    "\n",
    "#################################################################################\n",
    "# Defining a custom function to calculate accuracy \n",
    "def Accuracy_score(orig,pred):\n",
    "    MAPE = np.mean(100*(np.abs(orig-pred)/orig))\n",
    "    return(100-MAPE)\n",
    "from sklearn.metrics import make_scorer\n",
    "custom_scoring = make_scorer(Accuracy_score,greater_is_better=True)\n",
    "from sklearn.model_selection import cross_val_score\n",
    "Accuracy_values = cross_val_score(abrModel,Xnew,Y,cv=10,scoring=custom_scoring)\n",
    "print(\"\\nAccuracy score for 10-fold cross validation : \\n\",Accuracy_values)\n",
    "print(\"\\nFinal Average Accuracy of the model : \",round(Accuracy_values.mean(),2))"
   ]
  },
  {
   "cell_type": "markdown",
   "id": "ceedea41",
   "metadata": {},
   "source": [
    "# KNN"
   ]
  },
  {
   "cell_type": "code",
   "execution_count": 50,
   "id": "ce192bd9",
   "metadata": {},
   "outputs": [
    {
     "name": "stdout",
     "output_type": "stream",
     "text": [
      "KNeighborsRegressor(n_neighbors=4)\n",
      "\n",
      "R2 score :  0.9282943703242696\n",
      "\n",
      "Accuracy score for 10-fold cross validation : \n",
      " [90.20126466 91.63651087 92.77838805 91.41673423 92.47634298 93.50205416\n",
      " 91.59413432 92.55739722 93.37919215 90.19165773]\n",
      "\n",
      "Final Average Accuracy of the model :  91.97\n"
     ]
    }
   ],
   "source": [
    "#K-nearest Neighbor model\n",
    "from sklearn.neighbors import KNeighborsRegressor\n",
    "knn = KNeighborsRegressor(n_neighbors=4)\n",
    "\n",
    "#printing param of knn\n",
    "print(knn)\n",
    "#creating model \n",
    "knnModel = knn.fit(xtrain,ytrain)\n",
    "#prediction on testing data \n",
    "prediction = knnModel.predict(xtest)\n",
    "#Finding Goodness of fit of model\n",
    "print(\"\\nR2 score : \",r2_score(ytrain,knnModel.predict(xtrain)))\n",
    "\n",
    "##################################################################\n",
    "\n",
    "# Defining a custom function to calculate accuracy \n",
    "def Accuracy_score(orig,pred):\n",
    "    MAPE = np.mean(100*(np.abs(orig-pred)/orig))\n",
    "    return(100-MAPE)\n",
    "from sklearn.metrics import make_scorer\n",
    "custom_scoring = make_scorer(Accuracy_score,greater_is_better=True)\n",
    "from sklearn.model_selection import cross_val_score\n",
    "Accuracy_values = cross_val_score(knnModel,Xnew,Y,cv=10,scoring=custom_scoring)\n",
    "print(\"\\nAccuracy score for 10-fold cross validation : \\n\",Accuracy_values)\n",
    "print(\"\\nFinal Average Accuracy of the model : \",round(Accuracy_values.mean(),2))"
   ]
  },
  {
   "cell_type": "raw",
   "id": "d24d3557",
   "metadata": {},
   "source": [
    "From all above the model I choose RandomForest as the Final model used for prediction "
   ]
  },
  {
   "cell_type": "markdown",
   "id": "7df4a79c",
   "metadata": {},
   "source": [
    "# Creating final Model of Random Forest for final prediction using above params "
   ]
  },
  {
   "cell_type": "code",
   "execution_count": 56,
   "id": "a8743665",
   "metadata": {},
   "outputs": [],
   "source": [
    "rfr = RandomForestRegressor(n_estimators=100,max_depth=13,criterion='mse',random_state=42)\n",
    "FinalModel = rfr.fit(xtrain,ytrain)"
   ]
  },
  {
   "cell_type": "markdown",
   "id": "349af3bc",
   "metadata": {},
   "source": [
    "# Creating Test Data"
   ]
  },
  {
   "cell_type": "code",
   "execution_count": 57,
   "id": "0d274677",
   "metadata": {},
   "outputs": [],
   "source": [
    "test = pd.read_csv('F:/Course/Pandas/Csv/ComputerPricesData.csv')"
   ]
  },
  {
   "cell_type": "code",
   "execution_count": 58,
   "id": "5a7a462e",
   "metadata": {},
   "outputs": [
    {
     "data": {
      "text/html": [
       "<div>\n",
       "<style scoped>\n",
       "    .dataframe tbody tr th:only-of-type {\n",
       "        vertical-align: middle;\n",
       "    }\n",
       "\n",
       "    .dataframe tbody tr th {\n",
       "        vertical-align: top;\n",
       "    }\n",
       "\n",
       "    .dataframe thead th {\n",
       "        text-align: right;\n",
       "    }\n",
       "</style>\n",
       "<table border=\"1\" class=\"dataframe\">\n",
       "  <thead>\n",
       "    <tr style=\"text-align: right;\">\n",
       "      <th></th>\n",
       "      <th>price</th>\n",
       "      <th>speed</th>\n",
       "      <th>hd</th>\n",
       "      <th>ram</th>\n",
       "      <th>screen</th>\n",
       "      <th>cd</th>\n",
       "      <th>multi</th>\n",
       "      <th>premium</th>\n",
       "      <th>ads</th>\n",
       "      <th>trend</th>\n",
       "    </tr>\n",
       "  </thead>\n",
       "  <tbody>\n",
       "    <tr>\n",
       "      <th>0</th>\n",
       "      <td>1499</td>\n",
       "      <td>25</td>\n",
       "      <td>80</td>\n",
       "      <td>4</td>\n",
       "      <td>14</td>\n",
       "      <td>no</td>\n",
       "      <td>no</td>\n",
       "      <td>yes</td>\n",
       "      <td>94</td>\n",
       "      <td>1</td>\n",
       "    </tr>\n",
       "    <tr>\n",
       "      <th>1</th>\n",
       "      <td>1795</td>\n",
       "      <td>33</td>\n",
       "      <td>85</td>\n",
       "      <td>2</td>\n",
       "      <td>14</td>\n",
       "      <td>no</td>\n",
       "      <td>no</td>\n",
       "      <td>yes</td>\n",
       "      <td>94</td>\n",
       "      <td>1</td>\n",
       "    </tr>\n",
       "    <tr>\n",
       "      <th>2</th>\n",
       "      <td>1595</td>\n",
       "      <td>25</td>\n",
       "      <td>170</td>\n",
       "      <td>4</td>\n",
       "      <td>15</td>\n",
       "      <td>no</td>\n",
       "      <td>no</td>\n",
       "      <td>yes</td>\n",
       "      <td>94</td>\n",
       "      <td>1</td>\n",
       "    </tr>\n",
       "    <tr>\n",
       "      <th>3</th>\n",
       "      <td>1849</td>\n",
       "      <td>25</td>\n",
       "      <td>170</td>\n",
       "      <td>8</td>\n",
       "      <td>14</td>\n",
       "      <td>no</td>\n",
       "      <td>no</td>\n",
       "      <td>no</td>\n",
       "      <td>94</td>\n",
       "      <td>1</td>\n",
       "    </tr>\n",
       "    <tr>\n",
       "      <th>4</th>\n",
       "      <td>3295</td>\n",
       "      <td>33</td>\n",
       "      <td>340</td>\n",
       "      <td>16</td>\n",
       "      <td>14</td>\n",
       "      <td>no</td>\n",
       "      <td>no</td>\n",
       "      <td>yes</td>\n",
       "      <td>94</td>\n",
       "      <td>1</td>\n",
       "    </tr>\n",
       "    <tr>\n",
       "      <th>...</th>\n",
       "      <td>...</td>\n",
       "      <td>...</td>\n",
       "      <td>...</td>\n",
       "      <td>...</td>\n",
       "      <td>...</td>\n",
       "      <td>...</td>\n",
       "      <td>...</td>\n",
       "      <td>...</td>\n",
       "      <td>...</td>\n",
       "      <td>...</td>\n",
       "    </tr>\n",
       "    <tr>\n",
       "      <th>6254</th>\n",
       "      <td>1690</td>\n",
       "      <td>100</td>\n",
       "      <td>528</td>\n",
       "      <td>8</td>\n",
       "      <td>15</td>\n",
       "      <td>no</td>\n",
       "      <td>no</td>\n",
       "      <td>yes</td>\n",
       "      <td>39</td>\n",
       "      <td>35</td>\n",
       "    </tr>\n",
       "    <tr>\n",
       "      <th>6255</th>\n",
       "      <td>2223</td>\n",
       "      <td>66</td>\n",
       "      <td>850</td>\n",
       "      <td>16</td>\n",
       "      <td>15</td>\n",
       "      <td>yes</td>\n",
       "      <td>yes</td>\n",
       "      <td>yes</td>\n",
       "      <td>39</td>\n",
       "      <td>35</td>\n",
       "    </tr>\n",
       "    <tr>\n",
       "      <th>6256</th>\n",
       "      <td>2654</td>\n",
       "      <td>100</td>\n",
       "      <td>1200</td>\n",
       "      <td>24</td>\n",
       "      <td>15</td>\n",
       "      <td>yes</td>\n",
       "      <td>no</td>\n",
       "      <td>yes</td>\n",
       "      <td>39</td>\n",
       "      <td>35</td>\n",
       "    </tr>\n",
       "    <tr>\n",
       "      <th>6257</th>\n",
       "      <td>2195</td>\n",
       "      <td>100</td>\n",
       "      <td>850</td>\n",
       "      <td>16</td>\n",
       "      <td>15</td>\n",
       "      <td>yes</td>\n",
       "      <td>no</td>\n",
       "      <td>yes</td>\n",
       "      <td>39</td>\n",
       "      <td>35</td>\n",
       "    </tr>\n",
       "    <tr>\n",
       "      <th>6258</th>\n",
       "      <td>2490</td>\n",
       "      <td>100</td>\n",
       "      <td>850</td>\n",
       "      <td>16</td>\n",
       "      <td>17</td>\n",
       "      <td>yes</td>\n",
       "      <td>no</td>\n",
       "      <td>yes</td>\n",
       "      <td>39</td>\n",
       "      <td>35</td>\n",
       "    </tr>\n",
       "  </tbody>\n",
       "</table>\n",
       "<p>6259 rows × 10 columns</p>\n",
       "</div>"
      ],
      "text/plain": [
       "      price  speed    hd  ram  screen   cd multi premium  ads  trend\n",
       "0      1499     25    80    4      14   no    no     yes   94      1\n",
       "1      1795     33    85    2      14   no    no     yes   94      1\n",
       "2      1595     25   170    4      15   no    no     yes   94      1\n",
       "3      1849     25   170    8      14   no    no      no   94      1\n",
       "4      3295     33   340   16      14   no    no     yes   94      1\n",
       "...     ...    ...   ...  ...     ...  ...   ...     ...  ...    ...\n",
       "6254   1690    100   528    8      15   no    no     yes   39     35\n",
       "6255   2223     66   850   16      15  yes   yes     yes   39     35\n",
       "6256   2654    100  1200   24      15  yes    no     yes   39     35\n",
       "6257   2195    100   850   16      15  yes    no     yes   39     35\n",
       "6258   2490    100   850   16      17  yes    no     yes   39     35\n",
       "\n",
       "[6259 rows x 10 columns]"
      ]
     },
     "execution_count": 58,
     "metadata": {},
     "output_type": "execute_result"
    }
   ],
   "source": [
    "test"
   ]
  },
  {
   "cell_type": "code",
   "execution_count": 64,
   "id": "d4480423",
   "metadata": {},
   "outputs": [],
   "source": [
    "Xtest = test.drop(labels=['price','multi','ads'],axis = 1)"
   ]
  },
  {
   "cell_type": "code",
   "execution_count": 65,
   "id": "2a6df1b2",
   "metadata": {},
   "outputs": [],
   "source": [
    "cat = []\n",
    "con = []\n",
    "for i in Xtest.columns:\n",
    "    if(Xtest[i].dtypes == \"object\"):\n",
    "        cat.append(i)\n",
    "    else:\n",
    "        con.append(i)"
   ]
  },
  {
   "cell_type": "code",
   "execution_count": 66,
   "id": "b0ad1e17",
   "metadata": {},
   "outputs": [],
   "source": [
    "ss = StandardScaler()\n",
    "Xtest1 = pd.DataFrame(ss.fit_transform(Xtest[con]),columns=con)\n",
    "Xtest2 = pd.get_dummies(Xtest[cat])\n",
    "Xtestnew =Xtest1.join(Xtest2)"
   ]
  },
  {
   "cell_type": "code",
   "execution_count": 67,
   "id": "6a14d455",
   "metadata": {},
   "outputs": [
    {
     "data": {
      "text/html": [
       "<div>\n",
       "<style scoped>\n",
       "    .dataframe tbody tr th:only-of-type {\n",
       "        vertical-align: middle;\n",
       "    }\n",
       "\n",
       "    .dataframe tbody tr th {\n",
       "        vertical-align: top;\n",
       "    }\n",
       "\n",
       "    .dataframe thead th {\n",
       "        text-align: right;\n",
       "    }\n",
       "</style>\n",
       "<table border=\"1\" class=\"dataframe\">\n",
       "  <thead>\n",
       "    <tr style=\"text-align: right;\">\n",
       "      <th></th>\n",
       "      <th>speed</th>\n",
       "      <th>hd</th>\n",
       "      <th>ram</th>\n",
       "      <th>screen</th>\n",
       "      <th>trend</th>\n",
       "      <th>cd_no</th>\n",
       "      <th>cd_yes</th>\n",
       "      <th>premium_no</th>\n",
       "      <th>premium_yes</th>\n",
       "    </tr>\n",
       "  </thead>\n",
       "  <tbody>\n",
       "    <tr>\n",
       "      <th>0</th>\n",
       "      <td>-1.276752</td>\n",
       "      <td>-1.301994</td>\n",
       "      <td>-0.761359</td>\n",
       "      <td>-0.672591</td>\n",
       "      <td>-1.895886</td>\n",
       "      <td>1</td>\n",
       "      <td>0</td>\n",
       "      <td>0</td>\n",
       "      <td>1</td>\n",
       "    </tr>\n",
       "    <tr>\n",
       "      <th>1</th>\n",
       "      <td>-0.898610</td>\n",
       "      <td>-1.282654</td>\n",
       "      <td>-1.116558</td>\n",
       "      <td>-0.672591</td>\n",
       "      <td>-1.895886</td>\n",
       "      <td>1</td>\n",
       "      <td>0</td>\n",
       "      <td>0</td>\n",
       "      <td>1</td>\n",
       "    </tr>\n",
       "    <tr>\n",
       "      <th>2</th>\n",
       "      <td>-1.276752</td>\n",
       "      <td>-0.953869</td>\n",
       "      <td>-0.761359</td>\n",
       "      <td>0.432329</td>\n",
       "      <td>-1.895886</td>\n",
       "      <td>1</td>\n",
       "      <td>0</td>\n",
       "      <td>0</td>\n",
       "      <td>1</td>\n",
       "    </tr>\n",
       "    <tr>\n",
       "      <th>3</th>\n",
       "      <td>-1.276752</td>\n",
       "      <td>-0.953869</td>\n",
       "      <td>-0.050962</td>\n",
       "      <td>-0.672591</td>\n",
       "      <td>-1.895886</td>\n",
       "      <td>1</td>\n",
       "      <td>0</td>\n",
       "      <td>1</td>\n",
       "      <td>0</td>\n",
       "    </tr>\n",
       "    <tr>\n",
       "      <th>4</th>\n",
       "      <td>-0.898610</td>\n",
       "      <td>-0.296300</td>\n",
       "      <td>1.369834</td>\n",
       "      <td>-0.672591</td>\n",
       "      <td>-1.895886</td>\n",
       "      <td>1</td>\n",
       "      <td>0</td>\n",
       "      <td>0</td>\n",
       "      <td>1</td>\n",
       "    </tr>\n",
       "    <tr>\n",
       "      <th>...</th>\n",
       "      <td>...</td>\n",
       "      <td>...</td>\n",
       "      <td>...</td>\n",
       "      <td>...</td>\n",
       "      <td>...</td>\n",
       "      <td>...</td>\n",
       "      <td>...</td>\n",
       "      <td>...</td>\n",
       "      <td>...</td>\n",
       "    </tr>\n",
       "    <tr>\n",
       "      <th>6254</th>\n",
       "      <td>2.268334</td>\n",
       "      <td>0.430895</td>\n",
       "      <td>-0.050962</td>\n",
       "      <td>0.432329</td>\n",
       "      <td>2.422476</td>\n",
       "      <td>1</td>\n",
       "      <td>0</td>\n",
       "      <td>0</td>\n",
       "      <td>1</td>\n",
       "    </tr>\n",
       "    <tr>\n",
       "      <th>6255</th>\n",
       "      <td>0.661228</td>\n",
       "      <td>1.676409</td>\n",
       "      <td>1.369834</td>\n",
       "      <td>0.432329</td>\n",
       "      <td>2.422476</td>\n",
       "      <td>0</td>\n",
       "      <td>1</td>\n",
       "      <td>0</td>\n",
       "      <td>1</td>\n",
       "    </tr>\n",
       "    <tr>\n",
       "      <th>6256</th>\n",
       "      <td>2.268334</td>\n",
       "      <td>3.030229</td>\n",
       "      <td>2.790629</td>\n",
       "      <td>0.432329</td>\n",
       "      <td>2.422476</td>\n",
       "      <td>0</td>\n",
       "      <td>1</td>\n",
       "      <td>0</td>\n",
       "      <td>1</td>\n",
       "    </tr>\n",
       "    <tr>\n",
       "      <th>6257</th>\n",
       "      <td>2.268334</td>\n",
       "      <td>1.676409</td>\n",
       "      <td>1.369834</td>\n",
       "      <td>0.432329</td>\n",
       "      <td>2.422476</td>\n",
       "      <td>0</td>\n",
       "      <td>1</td>\n",
       "      <td>0</td>\n",
       "      <td>1</td>\n",
       "    </tr>\n",
       "    <tr>\n",
       "      <th>6258</th>\n",
       "      <td>2.268334</td>\n",
       "      <td>1.676409</td>\n",
       "      <td>1.369834</td>\n",
       "      <td>2.642169</td>\n",
       "      <td>2.422476</td>\n",
       "      <td>0</td>\n",
       "      <td>1</td>\n",
       "      <td>0</td>\n",
       "      <td>1</td>\n",
       "    </tr>\n",
       "  </tbody>\n",
       "</table>\n",
       "<p>6259 rows × 9 columns</p>\n",
       "</div>"
      ],
      "text/plain": [
       "         speed        hd       ram    screen     trend  cd_no  cd_yes  \\\n",
       "0    -1.276752 -1.301994 -0.761359 -0.672591 -1.895886      1       0   \n",
       "1    -0.898610 -1.282654 -1.116558 -0.672591 -1.895886      1       0   \n",
       "2    -1.276752 -0.953869 -0.761359  0.432329 -1.895886      1       0   \n",
       "3    -1.276752 -0.953869 -0.050962 -0.672591 -1.895886      1       0   \n",
       "4    -0.898610 -0.296300  1.369834 -0.672591 -1.895886      1       0   \n",
       "...        ...       ...       ...       ...       ...    ...     ...   \n",
       "6254  2.268334  0.430895 -0.050962  0.432329  2.422476      1       0   \n",
       "6255  0.661228  1.676409  1.369834  0.432329  2.422476      0       1   \n",
       "6256  2.268334  3.030229  2.790629  0.432329  2.422476      0       1   \n",
       "6257  2.268334  1.676409  1.369834  0.432329  2.422476      0       1   \n",
       "6258  2.268334  1.676409  1.369834  2.642169  2.422476      0       1   \n",
       "\n",
       "      premium_no  premium_yes  \n",
       "0              0            1  \n",
       "1              0            1  \n",
       "2              0            1  \n",
       "3              1            0  \n",
       "4              0            1  \n",
       "...          ...          ...  \n",
       "6254           0            1  \n",
       "6255           0            1  \n",
       "6256           0            1  \n",
       "6257           0            1  \n",
       "6258           0            1  \n",
       "\n",
       "[6259 rows x 9 columns]"
      ]
     },
     "execution_count": 67,
     "metadata": {},
     "output_type": "execute_result"
    }
   ],
   "source": [
    "Xtestnew"
   ]
  },
  {
   "cell_type": "code",
   "execution_count": 68,
   "id": "c358c0c7",
   "metadata": {},
   "outputs": [],
   "source": [
    "pred_test = FinalModel.predict(Xtestnew)"
   ]
  },
  {
   "cell_type": "code",
   "execution_count": 69,
   "id": "11fb098b",
   "metadata": {},
   "outputs": [
    {
     "data": {
      "text/plain": [
       "array([1512.9325    , 1673.78333333, 1600.05189474, ..., 2841.14960317,\n",
       "       2343.79852381, 2502.14      ])"
      ]
     },
     "execution_count": 69,
     "metadata": {},
     "output_type": "execute_result"
    }
   ],
   "source": [
    "pred_test"
   ]
  },
  {
   "cell_type": "code",
   "execution_count": 70,
   "id": "2b66c872",
   "metadata": {},
   "outputs": [],
   "source": [
    "test[\"Predicted_price\"] = pred_test"
   ]
  },
  {
   "cell_type": "code",
   "execution_count": 71,
   "id": "05107a0a",
   "metadata": {},
   "outputs": [
    {
     "data": {
      "text/html": [
       "<div>\n",
       "<style scoped>\n",
       "    .dataframe tbody tr th:only-of-type {\n",
       "        vertical-align: middle;\n",
       "    }\n",
       "\n",
       "    .dataframe tbody tr th {\n",
       "        vertical-align: top;\n",
       "    }\n",
       "\n",
       "    .dataframe thead th {\n",
       "        text-align: right;\n",
       "    }\n",
       "</style>\n",
       "<table border=\"1\" class=\"dataframe\">\n",
       "  <thead>\n",
       "    <tr style=\"text-align: right;\">\n",
       "      <th></th>\n",
       "      <th>price</th>\n",
       "      <th>speed</th>\n",
       "      <th>hd</th>\n",
       "      <th>ram</th>\n",
       "      <th>screen</th>\n",
       "      <th>cd</th>\n",
       "      <th>multi</th>\n",
       "      <th>premium</th>\n",
       "      <th>ads</th>\n",
       "      <th>trend</th>\n",
       "      <th>Predicted_price</th>\n",
       "    </tr>\n",
       "  </thead>\n",
       "  <tbody>\n",
       "    <tr>\n",
       "      <th>0</th>\n",
       "      <td>1499</td>\n",
       "      <td>25</td>\n",
       "      <td>80</td>\n",
       "      <td>4</td>\n",
       "      <td>14</td>\n",
       "      <td>no</td>\n",
       "      <td>no</td>\n",
       "      <td>yes</td>\n",
       "      <td>94</td>\n",
       "      <td>1</td>\n",
       "      <td>1512.932500</td>\n",
       "    </tr>\n",
       "    <tr>\n",
       "      <th>1</th>\n",
       "      <td>1795</td>\n",
       "      <td>33</td>\n",
       "      <td>85</td>\n",
       "      <td>2</td>\n",
       "      <td>14</td>\n",
       "      <td>no</td>\n",
       "      <td>no</td>\n",
       "      <td>yes</td>\n",
       "      <td>94</td>\n",
       "      <td>1</td>\n",
       "      <td>1673.783333</td>\n",
       "    </tr>\n",
       "    <tr>\n",
       "      <th>2</th>\n",
       "      <td>1595</td>\n",
       "      <td>25</td>\n",
       "      <td>170</td>\n",
       "      <td>4</td>\n",
       "      <td>15</td>\n",
       "      <td>no</td>\n",
       "      <td>no</td>\n",
       "      <td>yes</td>\n",
       "      <td>94</td>\n",
       "      <td>1</td>\n",
       "      <td>1600.051895</td>\n",
       "    </tr>\n",
       "    <tr>\n",
       "      <th>3</th>\n",
       "      <td>1849</td>\n",
       "      <td>25</td>\n",
       "      <td>170</td>\n",
       "      <td>8</td>\n",
       "      <td>14</td>\n",
       "      <td>no</td>\n",
       "      <td>no</td>\n",
       "      <td>no</td>\n",
       "      <td>94</td>\n",
       "      <td>1</td>\n",
       "      <td>1956.112381</td>\n",
       "    </tr>\n",
       "    <tr>\n",
       "      <th>4</th>\n",
       "      <td>3295</td>\n",
       "      <td>33</td>\n",
       "      <td>340</td>\n",
       "      <td>16</td>\n",
       "      <td>14</td>\n",
       "      <td>no</td>\n",
       "      <td>no</td>\n",
       "      <td>yes</td>\n",
       "      <td>94</td>\n",
       "      <td>1</td>\n",
       "      <td>3111.501369</td>\n",
       "    </tr>\n",
       "    <tr>\n",
       "      <th>...</th>\n",
       "      <td>...</td>\n",
       "      <td>...</td>\n",
       "      <td>...</td>\n",
       "      <td>...</td>\n",
       "      <td>...</td>\n",
       "      <td>...</td>\n",
       "      <td>...</td>\n",
       "      <td>...</td>\n",
       "      <td>...</td>\n",
       "      <td>...</td>\n",
       "      <td>...</td>\n",
       "    </tr>\n",
       "    <tr>\n",
       "      <th>6254</th>\n",
       "      <td>1690</td>\n",
       "      <td>100</td>\n",
       "      <td>528</td>\n",
       "      <td>8</td>\n",
       "      <td>15</td>\n",
       "      <td>no</td>\n",
       "      <td>no</td>\n",
       "      <td>yes</td>\n",
       "      <td>39</td>\n",
       "      <td>35</td>\n",
       "      <td>1681.861667</td>\n",
       "    </tr>\n",
       "    <tr>\n",
       "      <th>6255</th>\n",
       "      <td>2223</td>\n",
       "      <td>66</td>\n",
       "      <td>850</td>\n",
       "      <td>16</td>\n",
       "      <td>15</td>\n",
       "      <td>yes</td>\n",
       "      <td>yes</td>\n",
       "      <td>yes</td>\n",
       "      <td>39</td>\n",
       "      <td>35</td>\n",
       "      <td>2160.459147</td>\n",
       "    </tr>\n",
       "    <tr>\n",
       "      <th>6256</th>\n",
       "      <td>2654</td>\n",
       "      <td>100</td>\n",
       "      <td>1200</td>\n",
       "      <td>24</td>\n",
       "      <td>15</td>\n",
       "      <td>yes</td>\n",
       "      <td>no</td>\n",
       "      <td>yes</td>\n",
       "      <td>39</td>\n",
       "      <td>35</td>\n",
       "      <td>2841.149603</td>\n",
       "    </tr>\n",
       "    <tr>\n",
       "      <th>6257</th>\n",
       "      <td>2195</td>\n",
       "      <td>100</td>\n",
       "      <td>850</td>\n",
       "      <td>16</td>\n",
       "      <td>15</td>\n",
       "      <td>yes</td>\n",
       "      <td>no</td>\n",
       "      <td>yes</td>\n",
       "      <td>39</td>\n",
       "      <td>35</td>\n",
       "      <td>2343.798524</td>\n",
       "    </tr>\n",
       "    <tr>\n",
       "      <th>6258</th>\n",
       "      <td>2490</td>\n",
       "      <td>100</td>\n",
       "      <td>850</td>\n",
       "      <td>16</td>\n",
       "      <td>17</td>\n",
       "      <td>yes</td>\n",
       "      <td>no</td>\n",
       "      <td>yes</td>\n",
       "      <td>39</td>\n",
       "      <td>35</td>\n",
       "      <td>2502.140000</td>\n",
       "    </tr>\n",
       "  </tbody>\n",
       "</table>\n",
       "<p>6259 rows × 11 columns</p>\n",
       "</div>"
      ],
      "text/plain": [
       "      price  speed    hd  ram  screen   cd multi premium  ads  trend  \\\n",
       "0      1499     25    80    4      14   no    no     yes   94      1   \n",
       "1      1795     33    85    2      14   no    no     yes   94      1   \n",
       "2      1595     25   170    4      15   no    no     yes   94      1   \n",
       "3      1849     25   170    8      14   no    no      no   94      1   \n",
       "4      3295     33   340   16      14   no    no     yes   94      1   \n",
       "...     ...    ...   ...  ...     ...  ...   ...     ...  ...    ...   \n",
       "6254   1690    100   528    8      15   no    no     yes   39     35   \n",
       "6255   2223     66   850   16      15  yes   yes     yes   39     35   \n",
       "6256   2654    100  1200   24      15  yes    no     yes   39     35   \n",
       "6257   2195    100   850   16      15  yes    no     yes   39     35   \n",
       "6258   2490    100   850   16      17  yes    no     yes   39     35   \n",
       "\n",
       "      Predicted_price  \n",
       "0         1512.932500  \n",
       "1         1673.783333  \n",
       "2         1600.051895  \n",
       "3         1956.112381  \n",
       "4         3111.501369  \n",
       "...               ...  \n",
       "6254      1681.861667  \n",
       "6255      2160.459147  \n",
       "6256      2841.149603  \n",
       "6257      2343.798524  \n",
       "6258      2502.140000  \n",
       "\n",
       "[6259 rows x 11 columns]"
      ]
     },
     "execution_count": 71,
     "metadata": {},
     "output_type": "execute_result"
    }
   ],
   "source": [
    "test"
   ]
  },
  {
   "cell_type": "code",
   "execution_count": 72,
   "id": "c36644ee",
   "metadata": {},
   "outputs": [],
   "source": [
    "test.to_csv(\"Desktop/Computer_Price_prediction.csv\")"
   ]
  },
  {
   "cell_type": "code",
   "execution_count": null,
   "id": "80e84fe0",
   "metadata": {},
   "outputs": [],
   "source": []
  }
 ],
 "metadata": {
  "kernelspec": {
   "display_name": "Python 3",
   "language": "python",
   "name": "python3"
  },
  "language_info": {
   "codemirror_mode": {
    "name": "ipython",
    "version": 3
   },
   "file_extension": ".py",
   "mimetype": "text/x-python",
   "name": "python",
   "nbconvert_exporter": "python",
   "pygments_lexer": "ipython3",
   "version": "3.8.8"
  }
 },
 "nbformat": 4,
 "nbformat_minor": 5
}
